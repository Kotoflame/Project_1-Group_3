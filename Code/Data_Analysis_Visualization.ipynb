{
 "cells": [
  {
   "cell_type": "markdown",
   "id": "956574a4",
   "metadata": {},
   "source": [
    "## Data Analysis and Visualization Notebook\n"
   ]
  },
  {
   "cell_type": "code",
   "execution_count": null,
   "id": "715d4f86",
   "metadata": {},
   "outputs": [],
   "source": [
    "import pandas as pd\n",
    "import numpy as np\n",
    "from pathlib import Path\n",
    "\n",
    "\n",
    "\n",
    "\n",
    "#Here are the relative paths for assorted resource folders. Feel free to save to a file within these paths. \n",
    "APIDataPath = '../Resources/API_Data/'\n",
    "AnalyzedDataPath = '../Resources/Data_Analysis/'\n",
    "FiguresPath = '../Resources/Figures/'\n",
    "#e.g. TVdata = f'{APIDataPath}TV_dat84_23.csv'\n",
    "\n",
    "\n",
    "\n"
   ]
  }
 ],
 "metadata": {
  "kernelspec": {
   "display_name": "Python 3 (Spyder)",
   "language": "python3",
   "name": "python3"
  },
  "language_info": {
   "codemirror_mode": {
    "name": "ipython",
    "version": 3
   },
   "file_extension": ".py",
   "mimetype": "text/x-python",
   "name": "python",
   "nbconvert_exporter": "python",
   "pygments_lexer": "ipython3",
   "version": "3.10.9"
  }
 },
 "nbformat": 4,
 "nbformat_minor": 5
}
