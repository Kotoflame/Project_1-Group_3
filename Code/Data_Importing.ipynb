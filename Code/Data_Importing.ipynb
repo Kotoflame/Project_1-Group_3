{
 "cells": [
  {
   "cell_type": "markdown",
   "id": "2074c293",
   "metadata": {},
   "source": [
    "## Data Importing Notebook"
   ]
  },
  {
   "cell_type": "code",
   "execution_count": 4,
   "id": "c16c75ca",
   "metadata": {},
   "outputs": [],
   "source": [
    "# import the necessary libraries\n",
    "import pandas as pd\n",
    "import numpy as np\n",
    "import requests\n",
    "import json\n",
    "import matplotlib.pyplot as plt\n",
    "import seaborn as sns\n",
    "from sklearn.linear_model import LinearRegression\n",
    "\n",
    "\n",
    "\n",
    "from pathlib import Path\n",
    "\n",
    "from api_keys import Openweather_api_key\n",
    "from api_keys import Geoapify_key\n",
    "\n",
    "\n",
    "#Here are the relative paths for assorted resource folders. Feel free to save to a file within these paths. \n",
    "APIDataPath = '../Resources/API_Data/'\n",
    "AnalyzedDataPath = '../Resources/Data_Analysis/'\n",
    "FiguresPath = '../Resources/Figures/'\n",
    "#e.g. TVdata = f'{APIDataPath}TV_dat84_23.csv'\n"
   ]
  },
  {
   "cell_type": "markdown",
   "id": "eaa9c6e0",
   "metadata": {},
   "source": [
    "## Kevin Starts Here"
   ]
  },
  {
   "cell_type": "code",
   "execution_count": 9,
   "id": "b8e843b6",
   "metadata": {},
   "outputs": [
    {
     "data": {
      "text/html": [
       "<div>\n",
       "<style scoped>\n",
       "    .dataframe tbody tr th:only-of-type {\n",
       "        vertical-align: middle;\n",
       "    }\n",
       "\n",
       "    .dataframe tbody tr th {\n",
       "        vertical-align: top;\n",
       "    }\n",
       "\n",
       "    .dataframe thead th {\n",
       "        text-align: right;\n",
       "    }\n",
       "</style>\n",
       "<table border=\"1\" class=\"dataframe\">\n",
       "  <thead>\n",
       "    <tr style=\"text-align: right;\">\n",
       "      <th></th>\n",
       "      <th>Series ID</th>\n",
       "      <th>Year</th>\n",
       "      <th>Period</th>\n",
       "      <th>Label</th>\n",
       "      <th>Value</th>\n",
       "      <th>3-Month Net Change</th>\n",
       "      <th>3-Month % Change</th>\n",
       "    </tr>\n",
       "  </thead>\n",
       "  <tbody>\n",
       "    <tr>\n",
       "      <th>0</th>\n",
       "      <td>EIUIR41200</td>\n",
       "      <td>1984</td>\n",
       "      <td>M12</td>\n",
       "      <td>1984 Dec</td>\n",
       "      <td>132.2</td>\n",
       "      <td>N/A</td>\n",
       "      <td>N/A</td>\n",
       "    </tr>\n",
       "    <tr>\n",
       "      <th>1</th>\n",
       "      <td>EIUIR41200</td>\n",
       "      <td>1985</td>\n",
       "      <td>M03</td>\n",
       "      <td>1985 Mar</td>\n",
       "      <td>133.5</td>\n",
       "      <td>NaN</td>\n",
       "      <td>1.0</td>\n",
       "    </tr>\n",
       "    <tr>\n",
       "      <th>2</th>\n",
       "      <td>EIUIR41200</td>\n",
       "      <td>1985</td>\n",
       "      <td>M06</td>\n",
       "      <td>1985 Jun</td>\n",
       "      <td>129.5</td>\n",
       "      <td>NaN</td>\n",
       "      <td>-3.0</td>\n",
       "    </tr>\n",
       "    <tr>\n",
       "      <th>3</th>\n",
       "      <td>EIUIR41200</td>\n",
       "      <td>1985</td>\n",
       "      <td>M09</td>\n",
       "      <td>1985 Sep</td>\n",
       "      <td>122.2</td>\n",
       "      <td>NaN</td>\n",
       "      <td>-5.6</td>\n",
       "    </tr>\n",
       "    <tr>\n",
       "      <th>4</th>\n",
       "      <td>EIUIR41200</td>\n",
       "      <td>1985</td>\n",
       "      <td>M12</td>\n",
       "      <td>1985 Dec</td>\n",
       "      <td>123.8</td>\n",
       "      <td>NaN</td>\n",
       "      <td>1.3</td>\n",
       "    </tr>\n",
       "  </tbody>\n",
       "</table>\n",
       "</div>"
      ],
      "text/plain": [
       "    Series ID  Year Period     Label  Value 3-Month Net Change 3-Month % Change\n",
       "0  EIUIR41200  1984    M12  1984 Dec  132.2                N/A              N/A\n",
       "1  EIUIR41200  1985    M03  1985 Mar  133.5                NaN              1.0\n",
       "2  EIUIR41200  1985    M06  1985 Jun  129.5                NaN             -3.0\n",
       "3  EIUIR41200  1985    M09  1985 Sep  122.2                NaN             -5.6\n",
       "4  EIUIR41200  1985    M12  1985 Dec  123.8                NaN              1.3"
      ]
     },
     "execution_count": 9,
     "metadata": {},
     "output_type": "execute_result"
    }
   ],
   "source": [
    "#Kevin's code starts here\n",
    "TVdataPath = Path(\"../Resources/API_Data/TV_dat84_23.csv\")\n",
    "TVdataOriginal_df = pd.read_csv(TVdataPath)\n",
    "TVdataOriginal_df.head()"
   ]
  },
  {
   "cell_type": "code",
   "execution_count": 10,
   "id": "3346d869",
   "metadata": {},
   "outputs": [
    {
     "data": {
      "text/html": [
       "<div>\n",
       "<style scoped>\n",
       "    .dataframe tbody tr th:only-of-type {\n",
       "        vertical-align: middle;\n",
       "    }\n",
       "\n",
       "    .dataframe tbody tr th {\n",
       "        vertical-align: top;\n",
       "    }\n",
       "\n",
       "    .dataframe thead th {\n",
       "        text-align: right;\n",
       "    }\n",
       "</style>\n",
       "<table border=\"1\" class=\"dataframe\">\n",
       "  <thead>\n",
       "    <tr style=\"text-align: right;\">\n",
       "      <th></th>\n",
       "      <th>Year</th>\n",
       "      <th>Period</th>\n",
       "      <th>Label</th>\n",
       "      <th>Value</th>\n",
       "      <th>3-Month % Change</th>\n",
       "    </tr>\n",
       "  </thead>\n",
       "  <tbody>\n",
       "    <tr>\n",
       "      <th>0</th>\n",
       "      <td>1984</td>\n",
       "      <td>M12</td>\n",
       "      <td>1984 Dec</td>\n",
       "      <td>132.2</td>\n",
       "      <td>N/A</td>\n",
       "    </tr>\n",
       "    <tr>\n",
       "      <th>1</th>\n",
       "      <td>1985</td>\n",
       "      <td>M03</td>\n",
       "      <td>1985 Mar</td>\n",
       "      <td>133.5</td>\n",
       "      <td>1.0</td>\n",
       "    </tr>\n",
       "    <tr>\n",
       "      <th>2</th>\n",
       "      <td>1985</td>\n",
       "      <td>M06</td>\n",
       "      <td>1985 Jun</td>\n",
       "      <td>129.5</td>\n",
       "      <td>-3.0</td>\n",
       "    </tr>\n",
       "    <tr>\n",
       "      <th>3</th>\n",
       "      <td>1985</td>\n",
       "      <td>M09</td>\n",
       "      <td>1985 Sep</td>\n",
       "      <td>122.2</td>\n",
       "      <td>-5.6</td>\n",
       "    </tr>\n",
       "    <tr>\n",
       "      <th>4</th>\n",
       "      <td>1985</td>\n",
       "      <td>M12</td>\n",
       "      <td>1985 Dec</td>\n",
       "      <td>123.8</td>\n",
       "      <td>1.3</td>\n",
       "    </tr>\n",
       "  </tbody>\n",
       "</table>\n",
       "</div>"
      ],
      "text/plain": [
       "   Year Period     Label  Value 3-Month % Change\n",
       "0  1984    M12  1984 Dec  132.2              N/A\n",
       "1  1985    M03  1985 Mar  133.5              1.0\n",
       "2  1985    M06  1985 Jun  129.5             -3.0\n",
       "3  1985    M09  1985 Sep  122.2             -5.6\n",
       "4  1985    M12  1985 Dec  123.8              1.3"
      ]
     },
     "execution_count": 10,
     "metadata": {},
     "output_type": "execute_result"
    }
   ],
   "source": [
    "TV_data_First = TVdataOriginal_df.drop(columns=['Series ID', '3-Month Net Change'])\n",
    "TV_data_First.head()"
   ]
  },
  {
   "cell_type": "code",
   "execution_count": 11,
   "id": "9d4d1a6e",
   "metadata": {},
   "outputs": [
    {
     "data": {
      "text/html": [
       "<div>\n",
       "<style scoped>\n",
       "    .dataframe tbody tr th:only-of-type {\n",
       "        vertical-align: middle;\n",
       "    }\n",
       "\n",
       "    .dataframe tbody tr th {\n",
       "        vertical-align: top;\n",
       "    }\n",
       "\n",
       "    .dataframe thead th {\n",
       "        text-align: right;\n",
       "    }\n",
       "</style>\n",
       "<table border=\"1\" class=\"dataframe\">\n",
       "  <thead>\n",
       "    <tr style=\"text-align: right;\">\n",
       "      <th></th>\n",
       "      <th>Year</th>\n",
       "      <th>Quarter</th>\n",
       "      <th>Date</th>\n",
       "      <th>Value</th>\n",
       "      <th>3-Month % Change</th>\n",
       "    </tr>\n",
       "  </thead>\n",
       "  <tbody>\n",
       "    <tr>\n",
       "      <th>1</th>\n",
       "      <td>1985</td>\n",
       "      <td>M03</td>\n",
       "      <td>1985-03-01</td>\n",
       "      <td>133.5</td>\n",
       "      <td>1.0</td>\n",
       "    </tr>\n",
       "    <tr>\n",
       "      <th>2</th>\n",
       "      <td>1985</td>\n",
       "      <td>M06</td>\n",
       "      <td>1985-06-01</td>\n",
       "      <td>129.5</td>\n",
       "      <td>-3.0</td>\n",
       "    </tr>\n",
       "    <tr>\n",
       "      <th>3</th>\n",
       "      <td>1985</td>\n",
       "      <td>M09</td>\n",
       "      <td>1985-09-01</td>\n",
       "      <td>122.2</td>\n",
       "      <td>-5.6</td>\n",
       "    </tr>\n",
       "    <tr>\n",
       "      <th>4</th>\n",
       "      <td>1985</td>\n",
       "      <td>M12</td>\n",
       "      <td>1985-12-01</td>\n",
       "      <td>123.8</td>\n",
       "      <td>1.3</td>\n",
       "    </tr>\n",
       "    <tr>\n",
       "      <th>5</th>\n",
       "      <td>1986</td>\n",
       "      <td>M03</td>\n",
       "      <td>1986-03-01</td>\n",
       "      <td>134.6</td>\n",
       "      <td>8.7</td>\n",
       "    </tr>\n",
       "  </tbody>\n",
       "</table>\n",
       "</div>"
      ],
      "text/plain": [
       "   Year Quarter       Date  Value 3-Month % Change\n",
       "1  1985     M03 1985-03-01  133.5              1.0\n",
       "2  1985     M06 1985-06-01  129.5             -3.0\n",
       "3  1985     M09 1985-09-01  122.2             -5.6\n",
       "4  1985     M12 1985-12-01  123.8              1.3\n",
       "5  1986     M03 1986-03-01  134.6              8.7"
      ]
     },
     "execution_count": 11,
     "metadata": {},
     "output_type": "execute_result"
    }
   ],
   "source": [
    "TV_data_Clean = TV_data_First.drop([0])\n",
    "TV_data_date = pd.to_datetime(TV_data_Clean['Label'])\n",
    "TV_data_Clean['Label'] = TV_data_date\n",
    "TV_data_Clean = TV_data_Clean.rename(columns={\"Label\": \"Date\", \"Period\": \"Quarter\"})\n",
    "TV_data_Clean.head()"
   ]
  },
  {
   "cell_type": "code",
   "execution_count": 12,
   "id": "a7ee2f68",
   "metadata": {},
   "outputs": [
    {
     "data": {
      "text/html": [
       "<div>\n",
       "<style scoped>\n",
       "    .dataframe tbody tr th:only-of-type {\n",
       "        vertical-align: middle;\n",
       "    }\n",
       "\n",
       "    .dataframe tbody tr th {\n",
       "        vertical-align: top;\n",
       "    }\n",
       "\n",
       "    .dataframe thead th {\n",
       "        text-align: right;\n",
       "    }\n",
       "</style>\n",
       "<table border=\"1\" class=\"dataframe\">\n",
       "  <thead>\n",
       "    <tr style=\"text-align: right;\">\n",
       "      <th></th>\n",
       "      <th>Year</th>\n",
       "      <th>Quarter</th>\n",
       "      <th>Date</th>\n",
       "      <th>Value</th>\n",
       "      <th>3-Month % Change</th>\n",
       "    </tr>\n",
       "  </thead>\n",
       "  <tbody>\n",
       "    <tr>\n",
       "      <th>329</th>\n",
       "      <td>2019</td>\n",
       "      <td>M01</td>\n",
       "      <td>2019-01-01</td>\n",
       "      <td>41.3</td>\n",
       "      <td>-1.7</td>\n",
       "    </tr>\n",
       "    <tr>\n",
       "      <th>330</th>\n",
       "      <td>2019</td>\n",
       "      <td>M02</td>\n",
       "      <td>2019-02-01</td>\n",
       "      <td>41.0</td>\n",
       "      <td>-2.1</td>\n",
       "    </tr>\n",
       "    <tr>\n",
       "      <th>331</th>\n",
       "      <td>2019</td>\n",
       "      <td>M03</td>\n",
       "      <td>2019-03-01</td>\n",
       "      <td>40.8</td>\n",
       "      <td>-2.2</td>\n",
       "    </tr>\n",
       "    <tr>\n",
       "      <th>332</th>\n",
       "      <td>2019</td>\n",
       "      <td>M04</td>\n",
       "      <td>2019-04-01</td>\n",
       "      <td>40.8</td>\n",
       "      <td>-1.2</td>\n",
       "    </tr>\n",
       "    <tr>\n",
       "      <th>333</th>\n",
       "      <td>2019</td>\n",
       "      <td>M05</td>\n",
       "      <td>2019-05-01</td>\n",
       "      <td>40.7</td>\n",
       "      <td>-0.7</td>\n",
       "    </tr>\n",
       "  </tbody>\n",
       "</table>\n",
       "</div>"
      ],
      "text/plain": [
       "     Year Quarter       Date  Value 3-Month % Change\n",
       "329  2019     M01 2019-01-01   41.3             -1.7\n",
       "330  2019     M02 2019-02-01   41.0             -2.1\n",
       "331  2019     M03 2019-03-01   40.8             -2.2\n",
       "332  2019     M04 2019-04-01   40.8             -1.2\n",
       "333  2019     M05 2019-05-01   40.7             -0.7"
      ]
     },
     "execution_count": 12,
     "metadata": {},
     "output_type": "execute_result"
    }
   ],
   "source": [
    "TV_data_2019 = TV_data_Clean[(TV_data_Clean['Date'].dt.year >= 2019)]\n",
    "TV_data_2019.head()"
   ]
  },
  {
   "cell_type": "markdown",
   "id": "2229e0bf",
   "metadata": {},
   "source": [
    "## Nelson's Starts here"
   ]
  },
  {
   "cell_type": "code",
   "execution_count": 13,
   "id": "df07ac1a",
   "metadata": {},
   "outputs": [],
   "source": [
    "# define a function to call the API and collect the data\n",
    "def get_gas_prices():\n",
    "    api_url = 'https://api.eia.gov/v2/series/?api_key=CaYN6JIcvNOO0ASoHuG1JYT1Hugfu98N3RFotIgL&series_id=PET.EMD_EPD2D_PTE_NUS_DPG.W'\n",
    "    response = requests.get(api_url)\n",
    "    data = json.loads(response.text)['series'][0]['data']\n",
    "    gas_prices = pd.DataFrame(data, columns=['Year', 'Price'])\n",
    "    gas_prices['Year'] = pd.to_datetime(gas_prices['Year'], format='%Y')\n",
    "    gas_prices.set_index('Year', inplace=True)\n",
    "    gas_prices.sort_index(inplace=True)\n",
    "    return gas_prices"
   ]
  },
  {
   "cell_type": "code",
   "execution_count": 14,
   "id": "9bb768c8",
   "metadata": {},
   "outputs": [
    {
     "ename": "NameError",
     "evalue": "name 'gas_prices' is not defined",
     "output_type": "error",
     "traceback": [
      "Traceback \u001b[1;36m(most recent call last)\u001b[0m:\n",
      "\u001b[1;36m  Cell \u001b[1;32mIn[14], line 3\u001b[1;36m\n\u001b[1;33m    plt.scatter(gas_prices.index, gas_prices['Price'], alpha=0.5)\u001b[1;36m\n",
      "\u001b[1;31mNameError\u001b[0m\u001b[1;31m:\u001b[0m name 'gas_prices' is not defined\n"
     ]
    },
    {
     "data": {
      "text/plain": [
       "<Figure size 3600x1800 with 0 Axes>"
      ]
     },
     "metadata": {},
     "output_type": "display_data"
    }
   ],
   "source": [
    "# create a scatter plot of the gas prices over time\n",
    "plt.figure(figsize=(12, 6))\n",
    "plt.scatter(gas_prices.index, gas_prices['Price'], alpha=0.5)\n",
    "plt.xlabel('Year')\n",
    "plt.ylabel('Gas Price ($)')\n",
    "plt.title('Gas Prices in the USA over Time')\n",
    "plt.show()"
   ]
  },
  {
   "cell_type": "code",
   "execution_count": null,
   "id": "d032f951",
   "metadata": {},
   "outputs": [],
   "source": [
    "# call the function to collect the data and create a data frame\n",
    "gas_prices = get_gas_prices()\n",
    "gas_prices.head()"
   ]
  },
  {
   "cell_type": "code",
   "execution_count": null,
   "id": "95de35dc",
   "metadata": {},
   "outputs": [],
   "source": [
    "# create a linear regression to see how the gas prices have changed over time\n",
    "X = gas_prices.index.map(lambda year: year.year).values.reshape(-1, 1)\n",
    "y = gas_prices['Price'].values.reshape(-1, 1)\n",
    "lr = LinearRegression().fit(X, y)\n",
    "y_pred = lr.predict(X)\n",
    "\n",
    "plt.figure(figsize=(12, 6))\n",
    "plt.scatter(X, y, alpha=0.5)\n",
    "plt.plot(X, y_pred, color='red')\n",
    "plt.xlabel('Year')\n",
    "plt.ylabel('Gas Price ($)')\n",
    "plt.title('Gas Prices in the USA over Time')\n",
    "plt.show()\n"
   ]
  },
  {
   "cell_type": "code",
   "execution_count": null,
   "id": "67003399",
   "metadata": {},
   "outputs": [],
   "source": [
    "# create a bar plot to see the average gas prices by year\n",
    "yearly_gas_prices = gas_prices.resample('Y').mean()\n",
    "\n",
    "plt.figure(figsize=(12, 6))\n",
    "plt.bar(yearly_gas_prices.index.year, yearly_gas_prices['Price'])\n",
    "plt.xlabel('Year')\n",
    "plt.ylabel('Average Gas Price ($)')\n",
    "plt.title('Average Gas Prices in the USA by Year')\n",
    "plt.show()\n"
   ]
  },
  {
   "cell_type": "code",
   "execution_count": null,
   "id": "c1a67ea1",
   "metadata": {},
   "outputs": [],
   "source": [
    "# create a distribution map to see how the gas prices have varied across the USA\n",
    "us_states = pd.read_csv('https://raw.githubusercontent.com/PublicaMundi/MappingAPI/master/data/geojson/us-states.json')\n",
    "us_states['id'] = us_states['id'].apply(lambda x: x.lower())\n",
    "\n",
    "state_gas_prices = gas_prices.groupby(gas_prices.index.year).mean()\n",
    "state_gas_prices['State'] = ['AL', 'AK', 'AZ', 'AR', 'CA', 'CO', 'CT', 'DE', 'FL', 'GA', 'HI', 'ID', 'IL', 'IN']"
   ]
  },
  {
   "cell_type": "code",
   "execution_count": null,
   "id": "d221e484",
   "metadata": {},
   "outputs": [],
   "source": []
  },
  {
   "cell_type": "markdown",
   "id": "865020d1",
   "metadata": {},
   "source": [
    "## Ryan Starts Here"
   ]
  },
  {
   "cell_type": "markdown",
   "id": "611f52dd",
   "metadata": {},
   "source": [
    "BLS API importing"
   ]
  },
  {
   "cell_type": "code",
   "execution_count": 8,
   "id": "914ae705",
   "metadata": {},
   "outputs": [],
   "source": [
    "\n",
    "#For scraping BLS. First get the series you are interested in. Searchable at:  https://beta.bls.gov/dataQuery/find?st=0&r=20&s=popularity%3AD&fq=survey:[cu]&more=0\n",
    "# you can view the series online at, for e.g.: https://beta.bls.gov/dataViewer/view/timeseries/CUUR0000SAF1\n",
    "\n",
    "SaveName = f'{APIDataPath}BLS_data_01.csv'\n",
    "\n",
    "from api_keys import BLS_key\n",
    "BLSUrl = 'https://api.bls.gov/publicAPI/v2/timeseries/data/'\n",
    "\n",
    "Series1 = 'CUUR0000SAF1' #'Food in U.S. city average, all urban consumers, not seasonally adjusted'\n",
    "Series2 = 'PCU484122484122P' #'PPI industry data for General freight trucking, long-distance LTL-Primary services, not seasonally adjusted'\n",
    "Series3 =  'WPU3014' #'PPI Commodity data for Transportation services-Air transportation of freight, not seasonally adjusted'\n",
    "Series4 =  'WPU3013' #'PPI Commodity data for Transportation services-Water transportation of freight, not seasonally adjusted'\n",
    "Series5 = 'CUSR0000SETA' #'New and used motor vehicles in U.S. city average, all urban consumers, seasonally adjusted'\n",
    "\n",
    "SeriesList = [Series1, Series2, Series3, Series4, Series5]\n",
    "TitleList = ['CPI: Food',\n",
    "             'PPI: Trucking', \n",
    "             'PPI: Air Freight',\n",
    "             'PPI: Water Freight',\n",
    "             'CPI: motor vehicles']\n",
    "SeriesDict = {SeriesList[i] : TitleList[i] for i in range(len(SeriesList))}\n",
    "\n",
    "StartYear = '2013'\n",
    "EndYear = '2023'\n"
   ]
  },
  {
   "cell_type": "code",
   "execution_count": 9,
   "id": "b588355f",
   "metadata": {
    "collapsed": true,
    "jupyter": {
     "outputs_hidden": true
    }
   },
   "outputs": [
    {
     "ename": "ConnectionError",
     "evalue": "('Connection aborted.', ConnectionResetError(10054, 'An existing connection was forcibly closed by the remote host', None, 10054, None))",
     "output_type": "error",
     "traceback": [
      "Traceback \u001b[1;36m(most recent call last)\u001b[0m:\n",
      "\u001b[0m  File \u001b[0;32mC:\\ProgramData\\anaconda3\\lib\\site-packages\\urllib3\\connectionpool.py:703\u001b[0m in \u001b[0;35murlopen\u001b[0m\n    httplib_response = self._make_request(\u001b[0m\n",
      "\u001b[0m  File \u001b[0;32mC:\\ProgramData\\anaconda3\\lib\\site-packages\\urllib3\\connectionpool.py:386\u001b[0m in \u001b[0;35m_make_request\u001b[0m\n    self._validate_conn(conn)\u001b[0m\n",
      "\u001b[0m  File \u001b[0;32mC:\\ProgramData\\anaconda3\\lib\\site-packages\\urllib3\\connectionpool.py:1042\u001b[0m in \u001b[0;35m_validate_conn\u001b[0m\n    conn.connect()\u001b[0m\n",
      "\u001b[0m  File \u001b[0;32mC:\\ProgramData\\anaconda3\\lib\\site-packages\\urllib3\\connection.py:419\u001b[0m in \u001b[0;35mconnect\u001b[0m\n    self.sock = ssl_wrap_socket(\u001b[0m\n",
      "\u001b[0m  File \u001b[0;32mC:\\ProgramData\\anaconda3\\lib\\site-packages\\urllib3\\util\\ssl_.py:449\u001b[0m in \u001b[0;35mssl_wrap_socket\u001b[0m\n    ssl_sock = _ssl_wrap_socket_impl(\u001b[0m\n",
      "\u001b[0m  File \u001b[0;32mC:\\ProgramData\\anaconda3\\lib\\site-packages\\urllib3\\util\\ssl_.py:493\u001b[0m in \u001b[0;35m_ssl_wrap_socket_impl\u001b[0m\n    return ssl_context.wrap_socket(sock, server_hostname=server_hostname)\u001b[0m\n",
      "\u001b[0m  File \u001b[0;32mC:\\ProgramData\\anaconda3\\lib\\ssl.py:513\u001b[0m in \u001b[0;35mwrap_socket\u001b[0m\n    return self.sslsocket_class._create(\u001b[0m\n",
      "\u001b[0m  File \u001b[0;32mC:\\ProgramData\\anaconda3\\lib\\ssl.py:1071\u001b[0m in \u001b[0;35m_create\u001b[0m\n    self.do_handshake()\u001b[0m\n",
      "\u001b[1;36m  File \u001b[1;32mC:\\ProgramData\\anaconda3\\lib\\ssl.py:1342\u001b[1;36m in \u001b[1;35mdo_handshake\u001b[1;36m\n\u001b[1;33m    self._sslobj.do_handshake()\u001b[1;36m\n",
      "\u001b[1;31mConnectionResetError\u001b[0m\u001b[1;31m:\u001b[0m [WinError 10054] An existing connection was forcibly closed by the remote host\n",
      "\nDuring handling of the above exception, another exception occurred:\n",
      "Traceback \u001b[1;36m(most recent call last)\u001b[0m:\n",
      "\u001b[0m  File \u001b[0;32mC:\\ProgramData\\anaconda3\\lib\\site-packages\\requests\\adapters.py:489\u001b[0m in \u001b[0;35msend\u001b[0m\n    resp = conn.urlopen(\u001b[0m\n",
      "\u001b[0m  File \u001b[0;32mC:\\ProgramData\\anaconda3\\lib\\site-packages\\urllib3\\connectionpool.py:787\u001b[0m in \u001b[0;35murlopen\u001b[0m\n    retries = retries.increment(\u001b[0m\n",
      "\u001b[0m  File \u001b[0;32mC:\\ProgramData\\anaconda3\\lib\\site-packages\\urllib3\\util\\retry.py:550\u001b[0m in \u001b[0;35mincrement\u001b[0m\n    raise six.reraise(type(error), error, _stacktrace)\u001b[0m\n",
      "\u001b[0m  File \u001b[0;32mC:\\ProgramData\\anaconda3\\lib\\site-packages\\urllib3\\packages\\six.py:769\u001b[0m in \u001b[0;35mreraise\u001b[0m\n    raise value.with_traceback(tb)\u001b[0m\n",
      "\u001b[0m  File \u001b[0;32mC:\\ProgramData\\anaconda3\\lib\\site-packages\\urllib3\\connectionpool.py:703\u001b[0m in \u001b[0;35murlopen\u001b[0m\n    httplib_response = self._make_request(\u001b[0m\n",
      "\u001b[0m  File \u001b[0;32mC:\\ProgramData\\anaconda3\\lib\\site-packages\\urllib3\\connectionpool.py:386\u001b[0m in \u001b[0;35m_make_request\u001b[0m\n    self._validate_conn(conn)\u001b[0m\n",
      "\u001b[0m  File \u001b[0;32mC:\\ProgramData\\anaconda3\\lib\\site-packages\\urllib3\\connectionpool.py:1042\u001b[0m in \u001b[0;35m_validate_conn\u001b[0m\n    conn.connect()\u001b[0m\n",
      "\u001b[0m  File \u001b[0;32mC:\\ProgramData\\anaconda3\\lib\\site-packages\\urllib3\\connection.py:419\u001b[0m in \u001b[0;35mconnect\u001b[0m\n    self.sock = ssl_wrap_socket(\u001b[0m\n",
      "\u001b[0m  File \u001b[0;32mC:\\ProgramData\\anaconda3\\lib\\site-packages\\urllib3\\util\\ssl_.py:449\u001b[0m in \u001b[0;35mssl_wrap_socket\u001b[0m\n    ssl_sock = _ssl_wrap_socket_impl(\u001b[0m\n",
      "\u001b[0m  File \u001b[0;32mC:\\ProgramData\\anaconda3\\lib\\site-packages\\urllib3\\util\\ssl_.py:493\u001b[0m in \u001b[0;35m_ssl_wrap_socket_impl\u001b[0m\n    return ssl_context.wrap_socket(sock, server_hostname=server_hostname)\u001b[0m\n",
      "\u001b[0m  File \u001b[0;32mC:\\ProgramData\\anaconda3\\lib\\ssl.py:513\u001b[0m in \u001b[0;35mwrap_socket\u001b[0m\n    return self.sslsocket_class._create(\u001b[0m\n",
      "\u001b[0m  File \u001b[0;32mC:\\ProgramData\\anaconda3\\lib\\ssl.py:1071\u001b[0m in \u001b[0;35m_create\u001b[0m\n    self.do_handshake()\u001b[0m\n",
      "\u001b[1;36m  File \u001b[1;32mC:\\ProgramData\\anaconda3\\lib\\ssl.py:1342\u001b[1;36m in \u001b[1;35mdo_handshake\u001b[1;36m\n\u001b[1;33m    self._sslobj.do_handshake()\u001b[1;36m\n",
      "\u001b[1;31mProtocolError\u001b[0m\u001b[1;31m:\u001b[0m ('Connection aborted.', ConnectionResetError(10054, 'An existing connection was forcibly closed by the remote host', None, 10054, None))\n",
      "\nDuring handling of the above exception, another exception occurred:\n",
      "Traceback \u001b[1;36m(most recent call last)\u001b[0m:\n",
      "\u001b[0m  Cell \u001b[0;32mIn[9], line 5\u001b[0m\n    p = requests.post(BLSUrl, data=data, headers=headers)\u001b[0m\n",
      "\u001b[0m  File \u001b[0;32mC:\\ProgramData\\anaconda3\\lib\\site-packages\\requests\\api.py:115\u001b[0m in \u001b[0;35mpost\u001b[0m\n    return request(\"post\", url, data=data, json=json, **kwargs)\u001b[0m\n",
      "\u001b[0m  File \u001b[0;32mC:\\ProgramData\\anaconda3\\lib\\site-packages\\requests\\api.py:59\u001b[0m in \u001b[0;35mrequest\u001b[0m\n    return session.request(method=method, url=url, **kwargs)\u001b[0m\n",
      "\u001b[0m  File \u001b[0;32mC:\\ProgramData\\anaconda3\\lib\\site-packages\\requests\\sessions.py:587\u001b[0m in \u001b[0;35mrequest\u001b[0m\n    resp = self.send(prep, **send_kwargs)\u001b[0m\n",
      "\u001b[0m  File \u001b[0;32mC:\\ProgramData\\anaconda3\\lib\\site-packages\\requests\\sessions.py:701\u001b[0m in \u001b[0;35msend\u001b[0m\n    r = adapter.send(request, **kwargs)\u001b[0m\n",
      "\u001b[1;36m  File \u001b[1;32mC:\\ProgramData\\anaconda3\\lib\\site-packages\\requests\\adapters.py:547\u001b[1;36m in \u001b[1;35msend\u001b[1;36m\n\u001b[1;33m    raise ConnectionError(err, request=request)\u001b[1;36m\n",
      "\u001b[1;31mConnectionError\u001b[0m\u001b[1;31m:\u001b[0m ('Connection aborted.', ConnectionResetError(10054, 'An existing connection was forcibly closed by the remote host', None, 10054, None))\n"
     ]
    }
   ],
   "source": [
    "#Placing request\n",
    "headers = {'Content-type': 'application/json'}\n",
    "data = json.dumps({\"seriesid\": SeriesList,\"startyear\":StartYear,\n",
    "                   \"endyear\":EndYear,\"registrationkey\":BLS_key})\n",
    "p = requests.post(BLSUrl, data=data, headers=headers)\n",
    "json_data = json.loads(p.text)\n"
   ]
  },
  {
   "cell_type": "code",
   "execution_count": null,
   "id": "a3f5103f",
   "metadata": {},
   "outputs": [],
   "source": [
    "#Creating and Formatting the DataFrame\n",
    "BLS_Dataframe = pd.DataFrame({'SeriesID':[],\n",
    "                              'Year':[],\n",
    "                              'Period':[],\n",
    "                              'Month':[],\n",
    "                              'PPI/CPI':[],\n",
    "    })\n",
    "\n",
    "for result in json_data['Results']['series']:\n",
    "    SeriesID = result['seriesID']\n",
    "    for item in result['data'] :\n",
    "        year = item['year']\n",
    "        period = item['period']\n",
    "        month = item['periodName']\n",
    "        value = float(item['value'])\n",
    "        \n",
    "        BLS_Dataframe.loc[len(BLS_Dataframe.index)] = [SeriesID, year,period,month,value] \n",
    "        \n",
    "BLS_Dataframe = BLS_Dataframe.replace({'SeriesID' : SeriesDict})"
   ]
  },
  {
   "cell_type": "code",
   "execution_count": null,
   "id": "5ce59f46",
   "metadata": {},
   "outputs": [],
   "source": [
    "BLS_Dataframe.to_csv(SaveName)"
   ]
  },
  {
   "cell_type": "code",
   "execution_count": null,
   "id": "7b997fb4",
   "metadata": {},
   "outputs": [],
   "source": []
  }
 ],
 "metadata": {
  "kernelspec": {
   "display_name": "Python 3 (Spyder)",
   "language": "python3",
   "name": "python3"
  },
  "language_info": {
   "codemirror_mode": {
    "name": "ipython",
    "version": 3
   },
   "file_extension": ".py",
   "mimetype": "text/x-python",
   "name": "python",
   "nbconvert_exporter": "python",
   "pygments_lexer": "ipython3",
   "version": "3.10.9"
  }
 },
 "nbformat": 4,
 "nbformat_minor": 5
}
