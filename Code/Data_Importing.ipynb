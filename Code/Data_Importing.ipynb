{
 "cells": [
  {
   "cell_type": "markdown",
   "id": "7ff6477b",
   "metadata": {},
   "source": [
    "## Data Importing Notebook"
   ]
  },
  {
   "cell_type": "code",
   "execution_count": 1,
   "id": "2e322b6e",
   "metadata": {},
   "outputs": [],
   "source": [
    "# import the necessary libraries\n",
    "import pandas as pd\n",
    "import numpy as np\n",
    "import requests\n",
    "import json\n",
    "import matplotlib.pyplot as plt\n",
    "import seaborn as sns\n",
    "from sklearn.linear_model import LinearRegression\n",
    "\n",
    "\n",
    "\n",
    "from pathlib import Path\n",
    "\n",
    "from api_keys import Openweather_api_key\n",
    "from api_keys import Geoapify_key\n",
    "\n",
    "\n",
    "#Here are the relative paths for assorted resource folders. Feel free to save to a file within these paths. \n",
    "APIDataPath = '../Resources/API_Data/'\n",
    "AnalyzedDataPath = '../Resources/Data_Analysis/'\n",
    "FiguresPath = '../Resources/Figures/'\n",
    "#e.g. TVdata = f'{APIDataPath}TV_dat84_23.csv'\n"
   ]
  },
  {
   "cell_type": "markdown",
   "id": "f0d96060",
   "metadata": {},
   "source": [
    "## Kevin Starts Here"
   ]
  },
  {
   "cell_type": "code",
   "execution_count": 49,
   "id": "e463814d",
   "metadata": {},
   "outputs": [
    {
     "data": {
      "text/html": [
       "<div>\n",
       "<style scoped>\n",
       "    .dataframe tbody tr th:only-of-type {\n",
       "        vertical-align: middle;\n",
       "    }\n",
       "\n",
       "    .dataframe tbody tr th {\n",
       "        vertical-align: top;\n",
       "    }\n",
       "\n",
       "    .dataframe thead th {\n",
       "        text-align: right;\n",
       "    }\n",
       "</style>\n",
       "<table border=\"1\" class=\"dataframe\">\n",
       "  <thead>\n",
       "    <tr style=\"text-align: right;\">\n",
       "      <th></th>\n",
       "      <th>Series ID</th>\n",
       "      <th>Year</th>\n",
       "      <th>Period</th>\n",
       "      <th>Label</th>\n",
       "      <th>Value</th>\n",
       "      <th>3-Month Net Change</th>\n",
       "      <th>3-Month % Change</th>\n",
       "    </tr>\n",
       "  </thead>\n",
       "  <tbody>\n",
       "    <tr>\n",
       "      <th>0</th>\n",
       "      <td>EIUIR41200</td>\n",
       "      <td>1984</td>\n",
       "      <td>M12</td>\n",
       "      <td>1984 Dec</td>\n",
       "      <td>132.2</td>\n",
       "      <td>N/A</td>\n",
       "      <td>N/A</td>\n",
       "    </tr>\n",
       "    <tr>\n",
       "      <th>1</th>\n",
       "      <td>EIUIR41200</td>\n",
       "      <td>1985</td>\n",
       "      <td>M03</td>\n",
       "      <td>1985 Mar</td>\n",
       "      <td>133.5</td>\n",
       "      <td>NaN</td>\n",
       "      <td>1.0</td>\n",
       "    </tr>\n",
       "    <tr>\n",
       "      <th>2</th>\n",
       "      <td>EIUIR41200</td>\n",
       "      <td>1985</td>\n",
       "      <td>M06</td>\n",
       "      <td>1985 Jun</td>\n",
       "      <td>129.5</td>\n",
       "      <td>NaN</td>\n",
       "      <td>-3.0</td>\n",
       "    </tr>\n",
       "  </tbody>\n",
       "</table>\n",
       "</div>"
      ],
      "text/plain": [
       "    Series ID  Year Period     Label  Value 3-Month Net Change  \\\n",
       "0  EIUIR41200  1984    M12  1984 Dec  132.2                N/A   \n",
       "1  EIUIR41200  1985    M03  1985 Mar  133.5                NaN   \n",
       "2  EIUIR41200  1985    M06  1985 Jun  129.5                NaN   \n",
       "\n",
       "  3-Month % Change  \n",
       "0              N/A  \n",
       "1              1.0  \n",
       "2             -3.0  "
      ]
     },
     "execution_count": 49,
     "metadata": {},
     "output_type": "execute_result"
    }
   ],
   "source": [
    "#Kevin's code starts here\n",
    "\n",
    "#TVdataPath = Path(\"../Resources/API_Data/TV_dat84_23.csv\")\n",
    "# reads in csv from Resources/API_Data folder\n",
    "TVdataPath = APIDataPath + \"TV_dat84_23.csv\"\n",
    "TVdataOriginal_df = pd.read_csv(TVdataPath)\n",
    "TVdataOriginal_df.head(3)"
   ]
  },
  {
   "cell_type": "code",
   "execution_count": 50,
   "id": "4f16af42",
   "metadata": {},
   "outputs": [
    {
     "data": {
      "text/html": [
       "<div>\n",
       "<style scoped>\n",
       "    .dataframe tbody tr th:only-of-type {\n",
       "        vertical-align: middle;\n",
       "    }\n",
       "\n",
       "    .dataframe tbody tr th {\n",
       "        vertical-align: top;\n",
       "    }\n",
       "\n",
       "    .dataframe thead th {\n",
       "        text-align: right;\n",
       "    }\n",
       "</style>\n",
       "<table border=\"1\" class=\"dataframe\">\n",
       "  <thead>\n",
       "    <tr style=\"text-align: right;\">\n",
       "      <th></th>\n",
       "      <th>Year</th>\n",
       "      <th>Period</th>\n",
       "      <th>Label</th>\n",
       "      <th>Value</th>\n",
       "      <th>3-Month % Change</th>\n",
       "    </tr>\n",
       "  </thead>\n",
       "  <tbody>\n",
       "    <tr>\n",
       "      <th>0</th>\n",
       "      <td>1984</td>\n",
       "      <td>M12</td>\n",
       "      <td>1984 Dec</td>\n",
       "      <td>132.2</td>\n",
       "      <td>N/A</td>\n",
       "    </tr>\n",
       "    <tr>\n",
       "      <th>1</th>\n",
       "      <td>1985</td>\n",
       "      <td>M03</td>\n",
       "      <td>1985 Mar</td>\n",
       "      <td>133.5</td>\n",
       "      <td>1.0</td>\n",
       "    </tr>\n",
       "  </tbody>\n",
       "</table>\n",
       "</div>"
      ],
      "text/plain": [
       "   Year Period     Label  Value 3-Month % Change\n",
       "0  1984    M12  1984 Dec  132.2              N/A\n",
       "1  1985    M03  1985 Mar  133.5              1.0"
      ]
     },
     "execution_count": 50,
     "metadata": {},
     "output_type": "execute_result"
    }
   ],
   "source": [
    "# removes unneeded columns\n",
    "TV_data_Clean = TVdataOriginal_df.copy()\n",
    "TV_data_Clean = TV_data_Clean.drop(columns=['Series ID', '3-Month Net Change'])\n",
    "TV_data_Clean.head(2)"
   ]
  },
  {
   "cell_type": "code",
   "execution_count": 51,
   "id": "d90cd0ed",
   "metadata": {},
   "outputs": [
    {
     "data": {
      "text/html": [
       "<div>\n",
       "<style scoped>\n",
       "    .dataframe tbody tr th:only-of-type {\n",
       "        vertical-align: middle;\n",
       "    }\n",
       "\n",
       "    .dataframe tbody tr th {\n",
       "        vertical-align: top;\n",
       "    }\n",
       "\n",
       "    .dataframe thead th {\n",
       "        text-align: right;\n",
       "    }\n",
       "</style>\n",
       "<table border=\"1\" class=\"dataframe\">\n",
       "  <thead>\n",
       "    <tr style=\"text-align: right;\">\n",
       "      <th></th>\n",
       "      <th>Year</th>\n",
       "      <th>Month</th>\n",
       "      <th>Date</th>\n",
       "      <th>Value</th>\n",
       "      <th>3-Month % Change</th>\n",
       "    </tr>\n",
       "  </thead>\n",
       "  <tbody>\n",
       "    <tr>\n",
       "      <th>0</th>\n",
       "      <td>1984</td>\n",
       "      <td>M12</td>\n",
       "      <td>1984-12-01</td>\n",
       "      <td>132.2</td>\n",
       "      <td>N/A</td>\n",
       "    </tr>\n",
       "    <tr>\n",
       "      <th>1</th>\n",
       "      <td>1985</td>\n",
       "      <td>M03</td>\n",
       "      <td>1985-03-01</td>\n",
       "      <td>133.5</td>\n",
       "      <td>1.0</td>\n",
       "    </tr>\n",
       "  </tbody>\n",
       "</table>\n",
       "</div>"
      ],
      "text/plain": [
       "   Year Month       Date  Value 3-Month % Change\n",
       "0  1984   M12 1984-12-01  132.2              N/A\n",
       "1  1985   M03 1985-03-01  133.5              1.0"
      ]
     },
     "execution_count": 51,
     "metadata": {},
     "output_type": "execute_result"
    }
   ],
   "source": [
    "# can eliminate first row if needed to resolve NA data prob\n",
    "# takes Label column and coverts to Pandas date/time and reinserts back into DataFrame\n",
    "#TV_data_First = TV_data_First.drop([0])\n",
    "TV_data_date = pd.to_datetime(TV_data_Clean['Label'])\n",
    "TV_data_Clean['Label'] = TV_data_date\n",
    "TV_data_Clean = TV_data_Clean.rename(columns={\"Label\": \"Date\", \"Period\": \"Month\"})\n",
    "TV_data_Clean.head(2)"
   ]
  },
  {
   "cell_type": "code",
   "execution_count": 52,
   "id": "b3ee0550",
   "metadata": {},
   "outputs": [
    {
     "data": {
      "text/html": [
       "<div>\n",
       "<style scoped>\n",
       "    .dataframe tbody tr th:only-of-type {\n",
       "        vertical-align: middle;\n",
       "    }\n",
       "\n",
       "    .dataframe tbody tr th {\n",
       "        vertical-align: top;\n",
       "    }\n",
       "\n",
       "    .dataframe thead th {\n",
       "        text-align: right;\n",
       "    }\n",
       "</style>\n",
       "<table border=\"1\" class=\"dataframe\">\n",
       "  <thead>\n",
       "    <tr style=\"text-align: right;\">\n",
       "      <th></th>\n",
       "      <th>Year</th>\n",
       "      <th>Month</th>\n",
       "      <th>Date</th>\n",
       "      <th>Value</th>\n",
       "      <th>3-Month % Change</th>\n",
       "    </tr>\n",
       "  </thead>\n",
       "  <tbody>\n",
       "    <tr>\n",
       "      <th>0</th>\n",
       "      <td>2013</td>\n",
       "      <td>M01</td>\n",
       "      <td>2013-01-01</td>\n",
       "      <td>52.0</td>\n",
       "      <td>-3.0</td>\n",
       "    </tr>\n",
       "    <tr>\n",
       "      <th>1</th>\n",
       "      <td>2013</td>\n",
       "      <td>M02</td>\n",
       "      <td>2013-02-01</td>\n",
       "      <td>51.9</td>\n",
       "      <td>-0.6</td>\n",
       "    </tr>\n",
       "    <tr>\n",
       "      <th>2</th>\n",
       "      <td>2013</td>\n",
       "      <td>M03</td>\n",
       "      <td>2013-03-01</td>\n",
       "      <td>51.1</td>\n",
       "      <td>-2.1</td>\n",
       "    </tr>\n",
       "  </tbody>\n",
       "</table>\n",
       "</div>"
      ],
      "text/plain": [
       "   Year Month       Date  Value 3-Month % Change\n",
       "0  2013   M01 2013-01-01   52.0             -3.0\n",
       "1  2013   M02 2013-02-01   51.9             -0.6\n",
       "2  2013   M03 2013-03-01   51.1             -2.1"
      ]
     },
     "execution_count": 52,
     "metadata": {},
     "output_type": "execute_result"
    }
   ],
   "source": [
    "# elimates rows prior to set year and rests index to start bat 0\n",
    "year = 2013\n",
    "TV_data_2013 = TV_data_Clean[(TV_data_Clean['Date'].dt.year >= year)]\n",
    "TV_data_2013.reset_index(drop = True, inplace = True)\n",
    "TV_data_2013.head(3)"
   ]
  },
  {
   "cell_type": "code",
   "execution_count": 53,
   "id": "b29bbd31",
   "metadata": {},
   "outputs": [],
   "source": [
    "TV_data_path = APIDataPath + 'TV_2013_cleaned.csv'\n",
    "TV_data_path\n",
    "TV_data_2013.to_csv(TV_data_path, index=False, header=True)"
   ]
  },
  {
   "cell_type": "code",
   "execution_count": 7,
   "id": "70d8df95",
   "metadata": {},
   "outputs": [],
   "source": [
    "# 'Eggs' price table"
   ]
  },
  {
   "cell_type": "code",
   "execution_count": 54,
   "id": "494c2556",
   "metadata": {},
   "outputs": [
    {
     "data": {
      "text/html": [
       "<div>\n",
       "<style scoped>\n",
       "    .dataframe tbody tr th:only-of-type {\n",
       "        vertical-align: middle;\n",
       "    }\n",
       "\n",
       "    .dataframe tbody tr th {\n",
       "        vertical-align: top;\n",
       "    }\n",
       "\n",
       "    .dataframe thead th {\n",
       "        text-align: right;\n",
       "    }\n",
       "</style>\n",
       "<table border=\"1\" class=\"dataframe\">\n",
       "  <thead>\n",
       "    <tr style=\"text-align: right;\">\n",
       "      <th></th>\n",
       "      <th>Series ID</th>\n",
       "      <th>Year</th>\n",
       "      <th>Period</th>\n",
       "      <th>Label</th>\n",
       "      <th>Value</th>\n",
       "      <th>3-Month % Change</th>\n",
       "    </tr>\n",
       "  </thead>\n",
       "  <tbody>\n",
       "    <tr>\n",
       "      <th>0</th>\n",
       "      <td>APU0000708111</td>\n",
       "      <td>1984</td>\n",
       "      <td>M01</td>\n",
       "      <td>1984 Jan</td>\n",
       "      <td>1.301</td>\n",
       "      <td>35.2</td>\n",
       "    </tr>\n",
       "    <tr>\n",
       "      <th>1</th>\n",
       "      <td>APU0000708111</td>\n",
       "      <td>1984</td>\n",
       "      <td>M02</td>\n",
       "      <td>1984 Feb</td>\n",
       "      <td>1.324</td>\n",
       "      <td>32.9</td>\n",
       "    </tr>\n",
       "    <tr>\n",
       "      <th>2</th>\n",
       "      <td>APU0000708111</td>\n",
       "      <td>1984</td>\n",
       "      <td>M03</td>\n",
       "      <td>1984 Mar</td>\n",
       "      <td>1.153</td>\n",
       "      <td>1.9</td>\n",
       "    </tr>\n",
       "  </tbody>\n",
       "</table>\n",
       "</div>"
      ],
      "text/plain": [
       "       Series ID  Year Period     Label  Value  3-Month % Change\n",
       "0  APU0000708111  1984    M01  1984 Jan  1.301              35.2\n",
       "1  APU0000708111  1984    M02  1984 Feb  1.324              32.9\n",
       "2  APU0000708111  1984    M03  1984 Mar  1.153               1.9"
      ]
     },
     "execution_count": 54,
     "metadata": {},
     "output_type": "execute_result"
    }
   ],
   "source": [
    "# reads in csv from Resources/API_Data folder\n",
    "\n",
    "EggsDataPath = APIDataPath + \"eggs_84_23.csv\"\n",
    "EggsDataOriginal_df = pd.read_csv(EggsDataPath)\n",
    "EggsDataOriginal_df.head(3)"
   ]
  },
  {
   "cell_type": "code",
   "execution_count": 55,
   "id": "8559e3f5",
   "metadata": {},
   "outputs": [
    {
     "data": {
      "text/html": [
       "<div>\n",
       "<style scoped>\n",
       "    .dataframe tbody tr th:only-of-type {\n",
       "        vertical-align: middle;\n",
       "    }\n",
       "\n",
       "    .dataframe tbody tr th {\n",
       "        vertical-align: top;\n",
       "    }\n",
       "\n",
       "    .dataframe thead th {\n",
       "        text-align: right;\n",
       "    }\n",
       "</style>\n",
       "<table border=\"1\" class=\"dataframe\">\n",
       "  <thead>\n",
       "    <tr style=\"text-align: right;\">\n",
       "      <th></th>\n",
       "      <th>Year</th>\n",
       "      <th>Period</th>\n",
       "      <th>Label</th>\n",
       "      <th>Value</th>\n",
       "      <th>3-Month % Change</th>\n",
       "    </tr>\n",
       "  </thead>\n",
       "  <tbody>\n",
       "    <tr>\n",
       "      <th>0</th>\n",
       "      <td>1984</td>\n",
       "      <td>M01</td>\n",
       "      <td>1984 Jan</td>\n",
       "      <td>1.301</td>\n",
       "      <td>35.2</td>\n",
       "    </tr>\n",
       "    <tr>\n",
       "      <th>1</th>\n",
       "      <td>1984</td>\n",
       "      <td>M02</td>\n",
       "      <td>1984 Feb</td>\n",
       "      <td>1.324</td>\n",
       "      <td>32.9</td>\n",
       "    </tr>\n",
       "  </tbody>\n",
       "</table>\n",
       "</div>"
      ],
      "text/plain": [
       "   Year Period     Label  Value  3-Month % Change\n",
       "0  1984    M01  1984 Jan  1.301              35.2\n",
       "1  1984    M02  1984 Feb  1.324              32.9"
      ]
     },
     "execution_count": 55,
     "metadata": {},
     "output_type": "execute_result"
    }
   ],
   "source": [
    "# removes unneeded columns\n",
    "EggsDataClean = EggsDataOriginal_df.copy() #original copy kept if needed\n",
    "EggsDataClean = EggsDataClean.drop(columns=['Series ID'])\n",
    "EggsDataClean.head(2)"
   ]
  },
  {
   "cell_type": "code",
   "execution_count": 56,
   "id": "7fbed92c",
   "metadata": {},
   "outputs": [
    {
     "data": {
      "text/html": [
       "<div>\n",
       "<style scoped>\n",
       "    .dataframe tbody tr th:only-of-type {\n",
       "        vertical-align: middle;\n",
       "    }\n",
       "\n",
       "    .dataframe tbody tr th {\n",
       "        vertical-align: top;\n",
       "    }\n",
       "\n",
       "    .dataframe thead th {\n",
       "        text-align: right;\n",
       "    }\n",
       "</style>\n",
       "<table border=\"1\" class=\"dataframe\">\n",
       "  <thead>\n",
       "    <tr style=\"text-align: right;\">\n",
       "      <th></th>\n",
       "      <th>Year</th>\n",
       "      <th>Month</th>\n",
       "      <th>Date</th>\n",
       "      <th>Value</th>\n",
       "      <th>3-Month % Change</th>\n",
       "    </tr>\n",
       "  </thead>\n",
       "  <tbody>\n",
       "    <tr>\n",
       "      <th>0</th>\n",
       "      <td>1984</td>\n",
       "      <td>M01</td>\n",
       "      <td>1984-01-01</td>\n",
       "      <td>1.301</td>\n",
       "      <td>35.2</td>\n",
       "    </tr>\n",
       "    <tr>\n",
       "      <th>1</th>\n",
       "      <td>1984</td>\n",
       "      <td>M02</td>\n",
       "      <td>1984-02-01</td>\n",
       "      <td>1.324</td>\n",
       "      <td>32.9</td>\n",
       "    </tr>\n",
       "  </tbody>\n",
       "</table>\n",
       "</div>"
      ],
      "text/plain": [
       "   Year Month       Date  Value  3-Month % Change\n",
       "0  1984   M01 1984-01-01  1.301              35.2\n",
       "1  1984   M02 1984-02-01  1.324              32.9"
      ]
     },
     "execution_count": 56,
     "metadata": {},
     "output_type": "execute_result"
    }
   ],
   "source": [
    "# takes Label column and coverts to Pandas date/time and reinserts back into DataFrame\n",
    "\n",
    "Eggs_data_date = pd.to_datetime(EggsDataClean['Label'])\n",
    "EggsDataClean['Label'] = Eggs_data_date\n",
    "EggsDataClean = EggsDataClean.rename(columns={\"Label\": \"Date\", \"Period\": \"Month\"})\n",
    "EggsDataClean.head(2)"
   ]
  },
  {
   "cell_type": "code",
   "execution_count": 57,
   "id": "ab87b9d2",
   "metadata": {},
   "outputs": [
    {
     "data": {
      "text/html": [
       "<div>\n",
       "<style scoped>\n",
       "    .dataframe tbody tr th:only-of-type {\n",
       "        vertical-align: middle;\n",
       "    }\n",
       "\n",
       "    .dataframe tbody tr th {\n",
       "        vertical-align: top;\n",
       "    }\n",
       "\n",
       "    .dataframe thead th {\n",
       "        text-align: right;\n",
       "    }\n",
       "</style>\n",
       "<table border=\"1\" class=\"dataframe\">\n",
       "  <thead>\n",
       "    <tr style=\"text-align: right;\">\n",
       "      <th></th>\n",
       "      <th>Year</th>\n",
       "      <th>Month</th>\n",
       "      <th>Date</th>\n",
       "      <th>Value</th>\n",
       "      <th>3-Month % Change</th>\n",
       "    </tr>\n",
       "  </thead>\n",
       "  <tbody>\n",
       "    <tr>\n",
       "      <th>0</th>\n",
       "      <td>2013</td>\n",
       "      <td>M01</td>\n",
       "      <td>2013-01-01</td>\n",
       "      <td>1.933</td>\n",
       "      <td>-1.4</td>\n",
       "    </tr>\n",
       "    <tr>\n",
       "      <th>1</th>\n",
       "      <td>2013</td>\n",
       "      <td>M02</td>\n",
       "      <td>2013-02-01</td>\n",
       "      <td>1.965</td>\n",
       "      <td>0.1</td>\n",
       "    </tr>\n",
       "    <tr>\n",
       "      <th>2</th>\n",
       "      <td>2013</td>\n",
       "      <td>M03</td>\n",
       "      <td>2013-03-01</td>\n",
       "      <td>1.925</td>\n",
       "      <td>-4.1</td>\n",
       "    </tr>\n",
       "  </tbody>\n",
       "</table>\n",
       "</div>"
      ],
      "text/plain": [
       "   Year Month       Date  Value  3-Month % Change\n",
       "0  2013   M01 2013-01-01  1.933              -1.4\n",
       "1  2013   M02 2013-02-01  1.965               0.1\n",
       "2  2013   M03 2013-03-01  1.925              -4.1"
      ]
     },
     "execution_count": 57,
     "metadata": {},
     "output_type": "execute_result"
    }
   ],
   "source": [
    "# elimates rows prior to set year and resets index to 0\n",
    "year = 2013\n",
    "EggsData_2013 = EggsDataClean[(EggsDataClean['Date'].dt.year >= year)]\n",
    "EggsData_2013.reset_index(drop = True, inplace = True)\n",
    "EggsData_2013.head(3)"
   ]
  },
  {
   "cell_type": "code",
   "execution_count": 109,
   "id": "89ef9f59",
   "metadata": {},
   "outputs": [],
   "source": [
    "#write cleaned data to csv file\n",
    "Eggs_data_path_out = APIDataPath + 'Eggs_2013_cleaned.csv'\n",
    "EggsData_2013.to_csv(Eggs_data_path_out, index=False, header=True)"
   ]
  },
  {
   "cell_type": "code",
   "execution_count": null,
   "id": "96212ee7",
   "metadata": {},
   "outputs": [],
   "source": [
    "# New Automobiles and Automobile Parts Price Table"
   ]
  },
  {
   "cell_type": "code",
   "execution_count": 64,
   "id": "13aef555",
   "metadata": {},
   "outputs": [
    {
     "data": {
      "text/html": [
       "<div>\n",
       "<style scoped>\n",
       "    .dataframe tbody tr th:only-of-type {\n",
       "        vertical-align: middle;\n",
       "    }\n",
       "\n",
       "    .dataframe tbody tr th {\n",
       "        vertical-align: top;\n",
       "    }\n",
       "\n",
       "    .dataframe thead th {\n",
       "        text-align: right;\n",
       "    }\n",
       "</style>\n",
       "<table border=\"1\" class=\"dataframe\">\n",
       "  <thead>\n",
       "    <tr style=\"text-align: right;\">\n",
       "      <th></th>\n",
       "      <th>Series ID</th>\n",
       "      <th>Year</th>\n",
       "      <th>Period</th>\n",
       "      <th>Label</th>\n",
       "      <th>Value</th>\n",
       "      <th>3-Month % Change</th>\n",
       "    </tr>\n",
       "  </thead>\n",
       "  <tbody>\n",
       "    <tr>\n",
       "      <th>0</th>\n",
       "      <td>WPS5861</td>\n",
       "      <td>2016</td>\n",
       "      <td>M01</td>\n",
       "      <td>2016 Jan</td>\n",
       "      <td>99.0</td>\n",
       "      <td>N/A</td>\n",
       "    </tr>\n",
       "    <tr>\n",
       "      <th>1</th>\n",
       "      <td>WPS5861</td>\n",
       "      <td>2016</td>\n",
       "      <td>M02</td>\n",
       "      <td>2016 Feb</td>\n",
       "      <td>98.7</td>\n",
       "      <td>NaN</td>\n",
       "    </tr>\n",
       "    <tr>\n",
       "      <th>2</th>\n",
       "      <td>WPS5861</td>\n",
       "      <td>2016</td>\n",
       "      <td>M03</td>\n",
       "      <td>2016 Mar</td>\n",
       "      <td>96.8</td>\n",
       "      <td>NaN</td>\n",
       "    </tr>\n",
       "  </tbody>\n",
       "</table>\n",
       "</div>"
      ],
      "text/plain": [
       "  Series ID  Year Period     Label  Value 3-Month % Change\n",
       "0   WPS5861  2016    M01  2016 Jan   99.0              N/A\n",
       "1   WPS5861  2016    M02  2016 Feb   98.7              NaN\n",
       "2   WPS5861  2016    M03  2016 Mar   96.8              NaN"
      ]
     },
     "execution_count": 64,
     "metadata": {},
     "output_type": "execute_result"
    }
   ],
   "source": [
    "# reads in csv from Resources/API_Data folder\n",
    "\n",
    "AutoDataPath = APIDataPath + \"automobile_2016_2023.csv\"\n",
    "AutoDataOriginal_df = pd.read_csv(AutoDataPath)\n",
    "AutoDataOriginal_df.head(3)"
   ]
  },
  {
   "cell_type": "code",
   "execution_count": 65,
   "id": "7da6b18f",
   "metadata": {},
   "outputs": [
    {
     "data": {
      "text/html": [
       "<div>\n",
       "<style scoped>\n",
       "    .dataframe tbody tr th:only-of-type {\n",
       "        vertical-align: middle;\n",
       "    }\n",
       "\n",
       "    .dataframe tbody tr th {\n",
       "        vertical-align: top;\n",
       "    }\n",
       "\n",
       "    .dataframe thead th {\n",
       "        text-align: right;\n",
       "    }\n",
       "</style>\n",
       "<table border=\"1\" class=\"dataframe\">\n",
       "  <thead>\n",
       "    <tr style=\"text-align: right;\">\n",
       "      <th></th>\n",
       "      <th>Year</th>\n",
       "      <th>Period</th>\n",
       "      <th>Label</th>\n",
       "      <th>Value</th>\n",
       "      <th>3-Month % Change</th>\n",
       "    </tr>\n",
       "  </thead>\n",
       "  <tbody>\n",
       "    <tr>\n",
       "      <th>0</th>\n",
       "      <td>2016</td>\n",
       "      <td>M01</td>\n",
       "      <td>2016 Jan</td>\n",
       "      <td>99.0</td>\n",
       "      <td>N/A</td>\n",
       "    </tr>\n",
       "    <tr>\n",
       "      <th>1</th>\n",
       "      <td>2016</td>\n",
       "      <td>M02</td>\n",
       "      <td>2016 Feb</td>\n",
       "      <td>98.7</td>\n",
       "      <td>NaN</td>\n",
       "    </tr>\n",
       "  </tbody>\n",
       "</table>\n",
       "</div>"
      ],
      "text/plain": [
       "   Year Period     Label  Value 3-Month % Change\n",
       "0  2016    M01  2016 Jan   99.0              N/A\n",
       "1  2016    M02  2016 Feb   98.7              NaN"
      ]
     },
     "execution_count": 65,
     "metadata": {},
     "output_type": "execute_result"
    }
   ],
   "source": [
    "# removes unneeded columns\n",
    "AutoDataClean = AutoDataOriginal_df.copy() #original copy kept if needed\n",
    "AutoDataClean = AutoDataClean.drop(columns=['Series ID'])\n",
    "AutoDataClean.head(2)"
   ]
  },
  {
   "cell_type": "code",
   "execution_count": 66,
   "id": "5c45aad5",
   "metadata": {},
   "outputs": [
    {
     "data": {
      "text/html": [
       "<div>\n",
       "<style scoped>\n",
       "    .dataframe tbody tr th:only-of-type {\n",
       "        vertical-align: middle;\n",
       "    }\n",
       "\n",
       "    .dataframe tbody tr th {\n",
       "        vertical-align: top;\n",
       "    }\n",
       "\n",
       "    .dataframe thead th {\n",
       "        text-align: right;\n",
       "    }\n",
       "</style>\n",
       "<table border=\"1\" class=\"dataframe\">\n",
       "  <thead>\n",
       "    <tr style=\"text-align: right;\">\n",
       "      <th></th>\n",
       "      <th>Year</th>\n",
       "      <th>Month</th>\n",
       "      <th>Date</th>\n",
       "      <th>Value</th>\n",
       "      <th>3-Month % Change</th>\n",
       "    </tr>\n",
       "  </thead>\n",
       "  <tbody>\n",
       "    <tr>\n",
       "      <th>0</th>\n",
       "      <td>2016</td>\n",
       "      <td>M01</td>\n",
       "      <td>2016-01-01</td>\n",
       "      <td>99.0</td>\n",
       "      <td>N/A</td>\n",
       "    </tr>\n",
       "    <tr>\n",
       "      <th>1</th>\n",
       "      <td>2016</td>\n",
       "      <td>M02</td>\n",
       "      <td>2016-02-01</td>\n",
       "      <td>98.7</td>\n",
       "      <td>NaN</td>\n",
       "    </tr>\n",
       "  </tbody>\n",
       "</table>\n",
       "</div>"
      ],
      "text/plain": [
       "   Year Month       Date  Value 3-Month % Change\n",
       "0  2016   M01 2016-01-01   99.0              N/A\n",
       "1  2016   M02 2016-02-01   98.7              NaN"
      ]
     },
     "execution_count": 66,
     "metadata": {},
     "output_type": "execute_result"
    }
   ],
   "source": [
    "# takes Label column and coverts to Pandas date/time and reinserts back into DataFrame\n",
    "# renames columns as needed\n",
    "Auto_data_date = pd.to_datetime(AutoDataClean['Label'])\n",
    "AutoDataClean['Label'] = Auto_data_date\n",
    "AutoDataClean = AutoDataClean.rename(columns={\"Label\": \"Date\", \"Period\": \"Month\"})\n",
    "AutoDataClean.head(2)"
   ]
  },
  {
   "cell_type": "code",
   "execution_count": 67,
   "id": "35f89c40",
   "metadata": {},
   "outputs": [],
   "source": [
    "#write cleaned data to csv file\n",
    "Auto_data_path_out = APIDataPath + 'Automobile_2016_cleaned.csv'\n",
    "AutoDataClean.to_csv(Auto_data_path_out, index=False, header=True)"
   ]
  },
  {
   "cell_type": "code",
   "execution_count": null,
   "id": "97cff4ae",
   "metadata": {},
   "outputs": [],
   "source": [
    "# Bananas Price Table"
   ]
  },
  {
   "cell_type": "code",
   "execution_count": 68,
   "id": "330e905a",
   "metadata": {},
   "outputs": [
    {
     "data": {
      "text/html": [
       "<div>\n",
       "<style scoped>\n",
       "    .dataframe tbody tr th:only-of-type {\n",
       "        vertical-align: middle;\n",
       "    }\n",
       "\n",
       "    .dataframe tbody tr th {\n",
       "        vertical-align: top;\n",
       "    }\n",
       "\n",
       "    .dataframe thead th {\n",
       "        text-align: right;\n",
       "    }\n",
       "</style>\n",
       "<table border=\"1\" class=\"dataframe\">\n",
       "  <thead>\n",
       "    <tr style=\"text-align: right;\">\n",
       "      <th></th>\n",
       "      <th>Series ID</th>\n",
       "      <th>Year</th>\n",
       "      <th>Period</th>\n",
       "      <th>Label</th>\n",
       "      <th>Value</th>\n",
       "      <th>3-Month % Change</th>\n",
       "    </tr>\n",
       "  </thead>\n",
       "  <tbody>\n",
       "    <tr>\n",
       "      <th>0</th>\n",
       "      <td>APU0000711211</td>\n",
       "      <td>1984</td>\n",
       "      <td>M01</td>\n",
       "      <td>1984 Jan</td>\n",
       "      <td>0.344</td>\n",
       "      <td>-10.6</td>\n",
       "    </tr>\n",
       "    <tr>\n",
       "      <th>1</th>\n",
       "      <td>APU0000711211</td>\n",
       "      <td>1984</td>\n",
       "      <td>M02</td>\n",
       "      <td>1984 Feb</td>\n",
       "      <td>0.373</td>\n",
       "      <td>14.1</td>\n",
       "    </tr>\n",
       "    <tr>\n",
       "      <th>2</th>\n",
       "      <td>APU0000711211</td>\n",
       "      <td>1984</td>\n",
       "      <td>M03</td>\n",
       "      <td>1984 Mar</td>\n",
       "      <td>0.373</td>\n",
       "      <td>18.4</td>\n",
       "    </tr>\n",
       "  </tbody>\n",
       "</table>\n",
       "</div>"
      ],
      "text/plain": [
       "       Series ID  Year Period     Label  Value  3-Month % Change\n",
       "0  APU0000711211  1984    M01  1984 Jan  0.344             -10.6\n",
       "1  APU0000711211  1984    M02  1984 Feb  0.373              14.1\n",
       "2  APU0000711211  1984    M03  1984 Mar  0.373              18.4"
      ]
     },
     "execution_count": 68,
     "metadata": {},
     "output_type": "execute_result"
    }
   ],
   "source": [
    "# reads in csv from Resources/API_Data folder\n",
    "BananasDataPath = APIDataPath + \"bananas_84_23.csv\"\n",
    "BananasDataOriginal_df = pd.read_csv(BananasDataPath)\n",
    "BananasDataOriginal_df.head(3)"
   ]
  },
  {
   "cell_type": "code",
   "execution_count": 70,
   "id": "c32af18a",
   "metadata": {},
   "outputs": [
    {
     "data": {
      "text/html": [
       "<div>\n",
       "<style scoped>\n",
       "    .dataframe tbody tr th:only-of-type {\n",
       "        vertical-align: middle;\n",
       "    }\n",
       "\n",
       "    .dataframe tbody tr th {\n",
       "        vertical-align: top;\n",
       "    }\n",
       "\n",
       "    .dataframe thead th {\n",
       "        text-align: right;\n",
       "    }\n",
       "</style>\n",
       "<table border=\"1\" class=\"dataframe\">\n",
       "  <thead>\n",
       "    <tr style=\"text-align: right;\">\n",
       "      <th></th>\n",
       "      <th>Year</th>\n",
       "      <th>Period</th>\n",
       "      <th>Label</th>\n",
       "      <th>Value</th>\n",
       "      <th>3-Month % Change</th>\n",
       "    </tr>\n",
       "  </thead>\n",
       "  <tbody>\n",
       "    <tr>\n",
       "      <th>0</th>\n",
       "      <td>1984</td>\n",
       "      <td>M01</td>\n",
       "      <td>1984 Jan</td>\n",
       "      <td>0.344</td>\n",
       "      <td>-10.6</td>\n",
       "    </tr>\n",
       "    <tr>\n",
       "      <th>1</th>\n",
       "      <td>1984</td>\n",
       "      <td>M02</td>\n",
       "      <td>1984 Feb</td>\n",
       "      <td>0.373</td>\n",
       "      <td>14.1</td>\n",
       "    </tr>\n",
       "  </tbody>\n",
       "</table>\n",
       "</div>"
      ],
      "text/plain": [
       "   Year Period     Label  Value  3-Month % Change\n",
       "0  1984    M01  1984 Jan  0.344             -10.6\n",
       "1  1984    M02  1984 Feb  0.373              14.1"
      ]
     },
     "execution_count": 70,
     "metadata": {},
     "output_type": "execute_result"
    }
   ],
   "source": [
    "#makes copy of original to work with and drops unneeded column(s)\n",
    "BananasDataClean = BananasDataOriginal_df.copy()\n",
    "BananasDataClean = BananasDataClean.drop(columns=['Series ID'])\n",
    "BananasDataClean.head(2)"
   ]
  },
  {
   "cell_type": "code",
   "execution_count": 71,
   "id": "05d7cf50",
   "metadata": {},
   "outputs": [
    {
     "data": {
      "text/html": [
       "<div>\n",
       "<style scoped>\n",
       "    .dataframe tbody tr th:only-of-type {\n",
       "        vertical-align: middle;\n",
       "    }\n",
       "\n",
       "    .dataframe tbody tr th {\n",
       "        vertical-align: top;\n",
       "    }\n",
       "\n",
       "    .dataframe thead th {\n",
       "        text-align: right;\n",
       "    }\n",
       "</style>\n",
       "<table border=\"1\" class=\"dataframe\">\n",
       "  <thead>\n",
       "    <tr style=\"text-align: right;\">\n",
       "      <th></th>\n",
       "      <th>Year</th>\n",
       "      <th>Month</th>\n",
       "      <th>Date</th>\n",
       "      <th>Value</th>\n",
       "      <th>3-Month % Change</th>\n",
       "    </tr>\n",
       "  </thead>\n",
       "  <tbody>\n",
       "    <tr>\n",
       "      <th>0</th>\n",
       "      <td>1984</td>\n",
       "      <td>M01</td>\n",
       "      <td>1984-01-01</td>\n",
       "      <td>0.344</td>\n",
       "      <td>-10.6</td>\n",
       "    </tr>\n",
       "    <tr>\n",
       "      <th>1</th>\n",
       "      <td>1984</td>\n",
       "      <td>M02</td>\n",
       "      <td>1984-02-01</td>\n",
       "      <td>0.373</td>\n",
       "      <td>14.1</td>\n",
       "    </tr>\n",
       "  </tbody>\n",
       "</table>\n",
       "</div>"
      ],
      "text/plain": [
       "   Year Month       Date  Value  3-Month % Change\n",
       "0  1984   M01 1984-01-01  0.344             -10.6\n",
       "1  1984   M02 1984-02-01  0.373              14.1"
      ]
     },
     "execution_count": 71,
     "metadata": {},
     "output_type": "execute_result"
    }
   ],
   "source": [
    "# takes Label column and coverts to Pandas date/time and reinserts back into DataFrame\n",
    "\n",
    "Bananas_data_date = pd.to_datetime(BananasDataClean['Label'])\n",
    "BananasDataClean['Label'] = Bananas_data_date\n",
    "BananasDataClean = BananasDataClean.rename(columns={\"Label\": \"Date\", \"Period\": \"Month\"})\n",
    "BananasDataClean.head(2)"
   ]
  },
  {
   "cell_type": "code",
   "execution_count": 98,
   "id": "f8d2d0ca",
   "metadata": {},
   "outputs": [
    {
     "data": {
      "text/html": [
       "<div>\n",
       "<style scoped>\n",
       "    .dataframe tbody tr th:only-of-type {\n",
       "        vertical-align: middle;\n",
       "    }\n",
       "\n",
       "    .dataframe tbody tr th {\n",
       "        vertical-align: top;\n",
       "    }\n",
       "\n",
       "    .dataframe thead th {\n",
       "        text-align: right;\n",
       "    }\n",
       "</style>\n",
       "<table border=\"1\" class=\"dataframe\">\n",
       "  <thead>\n",
       "    <tr style=\"text-align: right;\">\n",
       "      <th></th>\n",
       "      <th>Year</th>\n",
       "      <th>Month</th>\n",
       "      <th>Date</th>\n",
       "      <th>Value</th>\n",
       "      <th>3-Month % Change</th>\n",
       "    </tr>\n",
       "  </thead>\n",
       "  <tbody>\n",
       "    <tr>\n",
       "      <th>0</th>\n",
       "      <td>2013</td>\n",
       "      <td>M01</td>\n",
       "      <td>2013-01-01</td>\n",
       "      <td>0.609</td>\n",
       "      <td>1.2</td>\n",
       "    </tr>\n",
       "    <tr>\n",
       "      <th>1</th>\n",
       "      <td>2013</td>\n",
       "      <td>M02</td>\n",
       "      <td>2013-02-01</td>\n",
       "      <td>0.611</td>\n",
       "      <td>1.8</td>\n",
       "    </tr>\n",
       "    <tr>\n",
       "      <th>2</th>\n",
       "      <td>2013</td>\n",
       "      <td>M03</td>\n",
       "      <td>2013-03-01</td>\n",
       "      <td>0.609</td>\n",
       "      <td>0.5</td>\n",
       "    </tr>\n",
       "  </tbody>\n",
       "</table>\n",
       "</div>"
      ],
      "text/plain": [
       "   Year Month       Date  Value  3-Month % Change\n",
       "0  2013   M01 2013-01-01  0.609               1.2\n",
       "1  2013   M02 2013-02-01  0.611               1.8\n",
       "2  2013   M03 2013-03-01  0.609               0.5"
      ]
     },
     "execution_count": 98,
     "metadata": {},
     "output_type": "execute_result"
    }
   ],
   "source": [
    "# elimates rows prior to set year and resets index to 0\n",
    "year = 2013\n",
    "BananasData_2013 = BananasDataClean[(BananasDataClean['Date'].dt.year >= year)]\n",
    "BananasData_2013.reset_index(drop = True, inplace = True)\n",
    "BananasData_2013.head(3)"
   ]
  },
  {
   "cell_type": "code",
   "execution_count": 106,
   "id": "68118485",
   "metadata": {},
   "outputs": [],
   "source": [
    "# code if needed to divide into quarter periods\n",
    "#BananasData_2013a = BananasData_2013[(BananasData_2013['Month'] == \"M09\") | (BananasData_2013['Month'] == \"M03\") |\n",
    "#                                   (BananasData_2013['Month'] == \"M06\") | (BananasData_2013['Month'] == \"M12\")]\n",
    "#BananasData_2013a.head()"
   ]
  },
  {
   "cell_type": "code",
   "execution_count": 108,
   "id": "5ca477f7",
   "metadata": {},
   "outputs": [],
   "source": [
    "#write cleaned data to csv file\n",
    "Bananas_data_path_out = APIDataPath + 'Bananas_2013_cleaned.csv'\n",
    "BananasData_2013.to_csv(Bananas_data_path_out, index=False, header=True)"
   ]
  },
  {
   "cell_type": "code",
   "execution_count": null,
   "id": "4f46d82f",
   "metadata": {},
   "outputs": [],
   "source": []
  },
  {
   "cell_type": "code",
   "execution_count": null,
   "id": "f057c3ad",
   "metadata": {},
   "outputs": [],
   "source": []
  },
  {
   "cell_type": "markdown",
   "id": "c64bf2d8",
   "metadata": {},
   "source": [
    "## Nelson's Starts here"
   ]
  },
  {
   "cell_type": "code",
   "execution_count": 9,
   "id": "9324bd3e",
   "metadata": {},
   "outputs": [],
   "source": [
    "# define a function to call the API and collect the data\n",
    "def get_gas_prices():\n",
    "    api_url = 'https://api.eia.gov/v2/series/?api_key=CaYN6JIcvNOO0ASoHuG1JYT1Hugfu98N3RFotIgL&series_id=PET.EMD_EPD2D_PTE_NUS_DPG.W'\n",
    "    response = requests.get(api_url)\n",
    "    data = json.loads(response.text)['series'][0]['data']\n",
    "    gas_prices = pd.DataFrame(data, columns=['Year', 'Price'])\n",
    "    gas_prices['Year'] = pd.to_datetime(gas_prices['Year'], format='%Y')\n",
    "    gas_prices.set_index('Year', inplace=True)\n",
    "    gas_prices.sort_index(inplace=True)\n",
    "    return gas_prices"
   ]
  },
  {
   "cell_type": "code",
   "execution_count": 10,
   "id": "75174fe3",
   "metadata": {},
   "outputs": [
    {
     "ename": "NameError",
     "evalue": "name 'gas_prices' is not defined",
     "output_type": "error",
     "traceback": [
      "\u001b[1;31m---------------------------------------------------------------------------\u001b[0m",
      "\u001b[1;31mNameError\u001b[0m                                 Traceback (most recent call last)",
      "Cell \u001b[1;32mIn[10], line 3\u001b[0m\n\u001b[0;32m      1\u001b[0m \u001b[38;5;66;03m# create a scatter plot of the gas prices over time\u001b[39;00m\n\u001b[0;32m      2\u001b[0m plt\u001b[38;5;241m.\u001b[39mfigure(figsize\u001b[38;5;241m=\u001b[39m(\u001b[38;5;241m12\u001b[39m, \u001b[38;5;241m6\u001b[39m))\n\u001b[1;32m----> 3\u001b[0m plt\u001b[38;5;241m.\u001b[39mscatter(\u001b[43mgas_prices\u001b[49m\u001b[38;5;241m.\u001b[39mindex, gas_prices[\u001b[38;5;124m'\u001b[39m\u001b[38;5;124mPrice\u001b[39m\u001b[38;5;124m'\u001b[39m], alpha\u001b[38;5;241m=\u001b[39m\u001b[38;5;241m0.5\u001b[39m)\n\u001b[0;32m      4\u001b[0m plt\u001b[38;5;241m.\u001b[39mxlabel(\u001b[38;5;124m'\u001b[39m\u001b[38;5;124mYear\u001b[39m\u001b[38;5;124m'\u001b[39m)\n\u001b[0;32m      5\u001b[0m plt\u001b[38;5;241m.\u001b[39mylabel(\u001b[38;5;124m'\u001b[39m\u001b[38;5;124mGas Price ($)\u001b[39m\u001b[38;5;124m'\u001b[39m)\n",
      "\u001b[1;31mNameError\u001b[0m: name 'gas_prices' is not defined"
     ]
    },
    {
     "data": {
      "text/plain": [
       "<Figure size 1200x600 with 0 Axes>"
      ]
     },
     "metadata": {},
     "output_type": "display_data"
    }
   ],
   "source": [
    "# create a scatter plot of the gas prices over time\n",
    "plt.figure(figsize=(12, 6))\n",
    "plt.scatter(gas_prices.index, gas_prices['Price'], alpha=0.5)\n",
    "plt.xlabel('Year')\n",
    "plt.ylabel('Gas Price ($)')\n",
    "plt.title('Gas Prices in the USA over Time')\n",
    "plt.show()"
   ]
  },
  {
   "cell_type": "code",
   "execution_count": null,
   "id": "fd57626d",
   "metadata": {},
   "outputs": [],
   "source": [
    "# call the function to collect the data and create a data frame\n",
    "gas_prices = get_gas_prices()\n",
    "gas_prices.head()"
   ]
  },
  {
   "cell_type": "code",
   "execution_count": null,
   "id": "070b99bf",
   "metadata": {},
   "outputs": [],
   "source": [
    "# create a linear regression to see how the gas prices have changed over time\n",
    "X = gas_prices.index.map(lambda year: year.year).values.reshape(-1, 1)\n",
    "y = gas_prices['Price'].values.reshape(-1, 1)\n",
    "lr = LinearRegression().fit(X, y)\n",
    "y_pred = lr.predict(X)\n",
    "\n",
    "plt.figure(figsize=(12, 6))\n",
    "plt.scatter(X, y, alpha=0.5)\n",
    "plt.plot(X, y_pred, color='red')\n",
    "plt.xlabel('Year')\n",
    "plt.ylabel('Gas Price ($)')\n",
    "plt.title('Gas Prices in the USA over Time')\n",
    "plt.show()\n"
   ]
  },
  {
   "cell_type": "code",
   "execution_count": null,
   "id": "9da037e7",
   "metadata": {},
   "outputs": [],
   "source": [
    "# create a bar plot to see the average gas prices by year\n",
    "yearly_gas_prices = gas_prices.resample('Y').mean()\n",
    "\n",
    "plt.figure(figsize=(12, 6))\n",
    "plt.bar(yearly_gas_prices.index.year, yearly_gas_prices['Price'])\n",
    "plt.xlabel('Year')\n",
    "plt.ylabel('Average Gas Price ($)')\n",
    "plt.title('Average Gas Prices in the USA by Year')\n",
    "plt.show()\n"
   ]
  },
  {
   "cell_type": "code",
   "execution_count": null,
   "id": "6b63af4f",
   "metadata": {},
   "outputs": [],
   "source": [
    "# create a distribution map to see how the gas prices have varied across the USA\n",
    "us_states = pd.read_csv('https://raw.githubusercontent.com/PublicaMundi/MappingAPI/master/data/geojson/us-states.json')\n",
    "us_states['id'] = us_states['id'].apply(lambda x: x.lower())\n",
    "\n",
    "state_gas_prices = gas_prices.groupby(gas_prices.index.year).mean()\n",
    "state_gas_prices['State'] = ['AL', 'AK', 'AZ', 'AR', 'CA', 'CO', 'CT', 'DE', 'FL', 'GA', 'HI', 'ID', 'IL', 'IN']"
   ]
  },
  {
   "cell_type": "code",
   "execution_count": null,
   "id": "ecbae177",
   "metadata": {},
   "outputs": [],
   "source": []
  },
  {
   "cell_type": "code",
   "execution_count": null,
   "id": "abbd9217",
   "metadata": {},
   "outputs": [],
   "source": []
  }
 ],
 "metadata": {
  "kernelspec": {
   "display_name": "Python 3 (ipykernel)",
   "language": "python",
   "name": "python3"
  },
  "language_info": {
   "codemirror_mode": {
    "name": "ipython",
    "version": 3
   },
   "file_extension": ".py",
   "mimetype": "text/x-python",
   "name": "python",
   "nbconvert_exporter": "python",
   "pygments_lexer": "ipython3",
   "version": "3.10.11"
  }
 },
 "nbformat": 4,
 "nbformat_minor": 5
}
