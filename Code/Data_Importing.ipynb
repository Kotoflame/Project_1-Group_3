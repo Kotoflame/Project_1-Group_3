{
 "cells": [
  {
   "cell_type": "markdown",
   "id": "7ff6477b",
   "metadata": {},
   "source": [
    "## Data Importing Notebook"
   ]
  },
  {
   "cell_type": "code",
   "execution_count": 21,
   "id": "2e322b6e",
   "metadata": {},
   "outputs": [],
   "source": [
    "# import the necessary libraries\n",
    "import pandas as pd\n",
    "import numpy as np\n",
    "import requests\n",
    "import json\n",
    "import matplotlib.pyplot as plt\n",
    "import seaborn as sns\n",
    "from sklearn.linear_model import LinearRegression\n",
    "\n",
    "\n",
    "\n",
    "from pathlib import Path\n",
    "\n",
    "from api_keys import Openweather_api_key\n",
    "from api_keys import Geoapify_key\n",
    "\n",
    "\n",
    "#Here are the relative paths for assorted resource folders. Feel free to save to a file within these paths. \n",
    "APIDataPath = '../Resources/API_Data/'\n",
    "AnalyzedDataPath = '../Resources/Data_Analysis/'\n",
    "FiguresPath = '../Resources/Figures/'\n",
    "#e.g. TVdata = f'{APIDataPath}TV_dat84_23.csv'\n"
   ]
  },
  {
   "cell_type": "markdown",
   "id": "f0d96060",
   "metadata": {},
   "source": [
    "## Kevin Starts Here"
   ]
  },
  {
   "cell_type": "code",
   "execution_count": 28,
   "id": "e463814d",
   "metadata": {},
   "outputs": [
    {
     "data": {
      "text/html": [
       "<div>\n",
       "<style scoped>\n",
       "    .dataframe tbody tr th:only-of-type {\n",
       "        vertical-align: middle;\n",
       "    }\n",
       "\n",
       "    .dataframe tbody tr th {\n",
       "        vertical-align: top;\n",
       "    }\n",
       "\n",
       "    .dataframe thead th {\n",
       "        text-align: right;\n",
       "    }\n",
       "</style>\n",
       "<table border=\"1\" class=\"dataframe\">\n",
       "  <thead>\n",
       "    <tr style=\"text-align: right;\">\n",
       "      <th></th>\n",
       "      <th>Series ID</th>\n",
       "      <th>Year</th>\n",
       "      <th>Period</th>\n",
       "      <th>Label</th>\n",
       "      <th>Value</th>\n",
       "      <th>3-Month Net Change</th>\n",
       "      <th>3-Month % Change</th>\n",
       "    </tr>\n",
       "  </thead>\n",
       "  <tbody>\n",
       "    <tr>\n",
       "      <th>0</th>\n",
       "      <td>EIUIR41200</td>\n",
       "      <td>1984</td>\n",
       "      <td>M12</td>\n",
       "      <td>1984 Dec</td>\n",
       "      <td>132.2</td>\n",
       "      <td>N/A</td>\n",
       "      <td>N/A</td>\n",
       "    </tr>\n",
       "    <tr>\n",
       "      <th>1</th>\n",
       "      <td>EIUIR41200</td>\n",
       "      <td>1985</td>\n",
       "      <td>M03</td>\n",
       "      <td>1985 Mar</td>\n",
       "      <td>133.5</td>\n",
       "      <td>NaN</td>\n",
       "      <td>1.0</td>\n",
       "    </tr>\n",
       "    <tr>\n",
       "      <th>2</th>\n",
       "      <td>EIUIR41200</td>\n",
       "      <td>1985</td>\n",
       "      <td>M06</td>\n",
       "      <td>1985 Jun</td>\n",
       "      <td>129.5</td>\n",
       "      <td>NaN</td>\n",
       "      <td>-3.0</td>\n",
       "    </tr>\n",
       "  </tbody>\n",
       "</table>\n",
       "</div>"
      ],
      "text/plain": [
       "    Series ID  Year Period     Label  Value 3-Month Net Change  \\\n",
       "0  EIUIR41200  1984    M12  1984 Dec  132.2                N/A   \n",
       "1  EIUIR41200  1985    M03  1985 Mar  133.5                NaN   \n",
       "2  EIUIR41200  1985    M06  1985 Jun  129.5                NaN   \n",
       "\n",
       "  3-Month % Change  \n",
       "0              N/A  \n",
       "1              1.0  \n",
       "2             -3.0  "
      ]
     },
     "execution_count": 28,
     "metadata": {},
     "output_type": "execute_result"
    }
   ],
   "source": [
    "#Kevin's code starts here\n",
    "\n",
    "# reads in csv from Resources/API_Data folder\n",
    "#TVdataPath = Path(\"../Resources/API_Data/TV_dat84_23.csv\")\n",
    "TVdataPath = APIDataPath + \"TV_dat84_23.csv\"\n",
    "TVdataOriginal_df = pd.read_csv(TVdataPath)\n",
    "TVdataOriginal_df.head(3)"
   ]
  },
  {
   "cell_type": "code",
   "execution_count": 29,
   "id": "4f16af42",
   "metadata": {},
   "outputs": [
    {
     "data": {
      "text/html": [
       "<div>\n",
       "<style scoped>\n",
       "    .dataframe tbody tr th:only-of-type {\n",
       "        vertical-align: middle;\n",
       "    }\n",
       "\n",
       "    .dataframe tbody tr th {\n",
       "        vertical-align: top;\n",
       "    }\n",
       "\n",
       "    .dataframe thead th {\n",
       "        text-align: right;\n",
       "    }\n",
       "</style>\n",
       "<table border=\"1\" class=\"dataframe\">\n",
       "  <thead>\n",
       "    <tr style=\"text-align: right;\">\n",
       "      <th></th>\n",
       "      <th>Year</th>\n",
       "      <th>Period</th>\n",
       "      <th>Label</th>\n",
       "      <th>Value</th>\n",
       "      <th>3-Month % Change</th>\n",
       "    </tr>\n",
       "  </thead>\n",
       "  <tbody>\n",
       "    <tr>\n",
       "      <th>0</th>\n",
       "      <td>1984</td>\n",
       "      <td>M12</td>\n",
       "      <td>1984 Dec</td>\n",
       "      <td>132.2</td>\n",
       "      <td>N/A</td>\n",
       "    </tr>\n",
       "    <tr>\n",
       "      <th>1</th>\n",
       "      <td>1985</td>\n",
       "      <td>M03</td>\n",
       "      <td>1985 Mar</td>\n",
       "      <td>133.5</td>\n",
       "      <td>1.0</td>\n",
       "    </tr>\n",
       "  </tbody>\n",
       "</table>\n",
       "</div>"
      ],
      "text/plain": [
       "   Year Period     Label  Value 3-Month % Change\n",
       "0  1984    M12  1984 Dec  132.2              N/A\n",
       "1  1985    M03  1985 Mar  133.5              1.0"
      ]
     },
     "execution_count": 29,
     "metadata": {},
     "output_type": "execute_result"
    }
   ],
   "source": [
    "# removes unneeded columns\n",
    "TV_data_First = TVdataOriginal_df.drop(columns=['Series ID', '3-Month Net Change'])\n",
    "TV_data_First.head(2)"
   ]
  },
  {
   "cell_type": "code",
   "execution_count": 30,
   "id": "d90cd0ed",
   "metadata": {},
   "outputs": [
    {
     "data": {
      "text/html": [
       "<div>\n",
       "<style scoped>\n",
       "    .dataframe tbody tr th:only-of-type {\n",
       "        vertical-align: middle;\n",
       "    }\n",
       "\n",
       "    .dataframe tbody tr th {\n",
       "        vertical-align: top;\n",
       "    }\n",
       "\n",
       "    .dataframe thead th {\n",
       "        text-align: right;\n",
       "    }\n",
       "</style>\n",
       "<table border=\"1\" class=\"dataframe\">\n",
       "  <thead>\n",
       "    <tr style=\"text-align: right;\">\n",
       "      <th></th>\n",
       "      <th>Year</th>\n",
       "      <th>Quarter</th>\n",
       "      <th>Date</th>\n",
       "      <th>Value</th>\n",
       "      <th>3-Month % Change</th>\n",
       "    </tr>\n",
       "  </thead>\n",
       "  <tbody>\n",
       "    <tr>\n",
       "      <th>0</th>\n",
       "      <td>1984</td>\n",
       "      <td>M12</td>\n",
       "      <td>1984-12-01</td>\n",
       "      <td>132.2</td>\n",
       "      <td>N/A</td>\n",
       "    </tr>\n",
       "    <tr>\n",
       "      <th>1</th>\n",
       "      <td>1985</td>\n",
       "      <td>M03</td>\n",
       "      <td>1985-03-01</td>\n",
       "      <td>133.5</td>\n",
       "      <td>1.0</td>\n",
       "    </tr>\n",
       "  </tbody>\n",
       "</table>\n",
       "</div>"
      ],
      "text/plain": [
       "   Year Quarter       Date  Value 3-Month % Change\n",
       "0  1984     M12 1984-12-01  132.2              N/A\n",
       "1  1985     M03 1985-03-01  133.5              1.0"
      ]
     },
     "execution_count": 30,
     "metadata": {},
     "output_type": "execute_result"
    }
   ],
   "source": [
    "# can eliminate first row if needed to resolve NA data prob\n",
    "# takes Label column and coverts to Pandas date/time and reinserts back into DataFrame\n",
    "#TV_data_First = TV_data_First.drop([0])\n",
    "TV_data_Clean = TV_data_First.copy()\n",
    "TV_data_date = pd.to_datetime(TV_data_Clean['Label'])\n",
    "TV_data_Clean['Label'] = TV_data_date\n",
    "TV_data_Clean = TV_data_Clean.rename(columns={\"Label\": \"Date\", \"Period\": \"Quarter\"})\n",
    "TV_data_Clean.head(2)"
   ]
  },
  {
   "cell_type": "code",
   "execution_count": 25,
   "id": "b3ee0550",
   "metadata": {},
   "outputs": [
    {
     "data": {
      "text/html": [
       "<div>\n",
       "<style scoped>\n",
       "    .dataframe tbody tr th:only-of-type {\n",
       "        vertical-align: middle;\n",
       "    }\n",
       "\n",
       "    .dataframe tbody tr th {\n",
       "        vertical-align: top;\n",
       "    }\n",
       "\n",
       "    .dataframe thead th {\n",
       "        text-align: right;\n",
       "    }\n",
       "</style>\n",
       "<table border=\"1\" class=\"dataframe\">\n",
       "  <thead>\n",
       "    <tr style=\"text-align: right;\">\n",
       "      <th></th>\n",
       "      <th>index</th>\n",
       "      <th>Year</th>\n",
       "      <th>Quarter</th>\n",
       "      <th>Date</th>\n",
       "      <th>Value</th>\n",
       "      <th>3-Month % Change</th>\n",
       "    </tr>\n",
       "  </thead>\n",
       "  <tbody>\n",
       "    <tr>\n",
       "      <th>0</th>\n",
       "      <td>257</td>\n",
       "      <td>2013</td>\n",
       "      <td>M01</td>\n",
       "      <td>2013-01-01</td>\n",
       "      <td>52.0</td>\n",
       "      <td>-3.0</td>\n",
       "    </tr>\n",
       "    <tr>\n",
       "      <th>1</th>\n",
       "      <td>258</td>\n",
       "      <td>2013</td>\n",
       "      <td>M02</td>\n",
       "      <td>2013-02-01</td>\n",
       "      <td>51.9</td>\n",
       "      <td>-0.6</td>\n",
       "    </tr>\n",
       "  </tbody>\n",
       "</table>\n",
       "</div>"
      ],
      "text/plain": [
       "   index  Year Quarter       Date  Value 3-Month % Change\n",
       "0    257  2013     M01 2013-01-01   52.0             -3.0\n",
       "1    258  2013     M02 2013-02-01   51.9             -0.6"
      ]
     },
     "execution_count": 25,
     "metadata": {},
     "output_type": "execute_result"
    }
   ],
   "source": [
    "# elimates rows prior to set year and rests index to start bat 0\n",
    "year = 2013\n",
    "TV_data_2013 = TV_data_Clean[(TV_data_Clean['Date'].dt.year >= year)]\n",
    "TV_data_2013.reset_index(inplace = True)\n",
    "TV_data_2013.head(2)"
   ]
  },
  {
   "cell_type": "code",
   "execution_count": 26,
   "id": "a8a8a213",
   "metadata": {},
   "outputs": [],
   "source": [
    "TV_data_path = APIDataPath + 'TV_2013_cleaned.csv'\n",
    "TV_data_path\n",
    "TV_data_2013.to_csv(TV_data_path, index=False, header=True)"
   ]
  },
  {
   "cell_type": "code",
   "execution_count": null,
   "id": "966178d4",
   "metadata": {},
   "outputs": [],
   "source": []
  },
  {
   "cell_type": "markdown",
   "id": "c64bf2d8",
   "metadata": {},
   "source": [
    "## Nelson's Starts here"
   ]
  },
  {
   "cell_type": "code",
   "execution_count": 13,
   "id": "9324bd3e",
   "metadata": {},
   "outputs": [],
   "source": [
    "# define a function to call the API and collect the data\n",
    "def get_gas_prices():\n",
    "    api_url = 'https://api.eia.gov/v2/series/?api_key=CaYN6JIcvNOO0ASoHuG1JYT1Hugfu98N3RFotIgL&series_id=PET.EMD_EPD2D_PTE_NUS_DPG.W'\n",
    "    response = requests.get(api_url)\n",
    "    data = json.loads(response.text)['series'][0]['data']\n",
    "    gas_prices = pd.DataFrame(data, columns=['Year', 'Price'])\n",
    "    gas_prices['Year'] = pd.to_datetime(gas_prices['Year'], format='%Y')\n",
    "    gas_prices.set_index('Year', inplace=True)\n",
    "    gas_prices.sort_index(inplace=True)\n",
    "    return gas_prices"
   ]
  },
  {
   "cell_type": "code",
   "execution_count": 14,
   "id": "75174fe3",
   "metadata": {},
   "outputs": [
    {
     "ename": "NameError",
     "evalue": "name 'gas_prices' is not defined",
     "output_type": "error",
     "traceback": [
      "Traceback \u001b[1;36m(most recent call last)\u001b[0m:\n",
      "\u001b[1;36m  Cell \u001b[1;32mIn[14], line 3\u001b[1;36m\n\u001b[1;33m    plt.scatter(gas_prices.index, gas_prices['Price'], alpha=0.5)\u001b[1;36m\n",
      "\u001b[1;31mNameError\u001b[0m\u001b[1;31m:\u001b[0m name 'gas_prices' is not defined\n"
     ]
    },
    {
     "data": {
      "text/plain": [
       "<Figure size 3600x1800 with 0 Axes>"
      ]
     },
     "metadata": {},
     "output_type": "display_data"
    }
   ],
   "source": [
    "# create a scatter plot of the gas prices over time\n",
    "plt.figure(figsize=(12, 6))\n",
    "plt.scatter(gas_prices.index, gas_prices['Price'], alpha=0.5)\n",
    "plt.xlabel('Year')\n",
    "plt.ylabel('Gas Price ($)')\n",
    "plt.title('Gas Prices in the USA over Time')\n",
    "plt.show()"
   ]
  },
  {
   "cell_type": "code",
   "execution_count": null,
   "id": "fd57626d",
   "metadata": {},
   "outputs": [],
   "source": [
    "# call the function to collect the data and create a data frame\n",
    "gas_prices = get_gas_prices()\n",
    "gas_prices.head()"
   ]
  },
  {
   "cell_type": "code",
   "execution_count": null,
   "id": "070b99bf",
   "metadata": {},
   "outputs": [],
   "source": [
    "# create a linear regression to see how the gas prices have changed over time\n",
    "X = gas_prices.index.map(lambda year: year.year).values.reshape(-1, 1)\n",
    "y = gas_prices['Price'].values.reshape(-1, 1)\n",
    "lr = LinearRegression().fit(X, y)\n",
    "y_pred = lr.predict(X)\n",
    "\n",
    "plt.figure(figsize=(12, 6))\n",
    "plt.scatter(X, y, alpha=0.5)\n",
    "plt.plot(X, y_pred, color='red')\n",
    "plt.xlabel('Year')\n",
    "plt.ylabel('Gas Price ($)')\n",
    "plt.title('Gas Prices in the USA over Time')\n",
    "plt.show()\n"
   ]
  },
  {
   "cell_type": "code",
   "execution_count": null,
   "id": "9da037e7",
   "metadata": {},
   "outputs": [],
   "source": [
    "# create a bar plot to see the average gas prices by year\n",
    "yearly_gas_prices = gas_prices.resample('Y').mean()\n",
    "\n",
    "plt.figure(figsize=(12, 6))\n",
    "plt.bar(yearly_gas_prices.index.year, yearly_gas_prices['Price'])\n",
    "plt.xlabel('Year')\n",
    "plt.ylabel('Average Gas Price ($)')\n",
    "plt.title('Average Gas Prices in the USA by Year')\n",
    "plt.show()\n"
   ]
  },
  {
   "cell_type": "code",
   "execution_count": null,
   "id": "6b63af4f",
   "metadata": {},
   "outputs": [],
   "source": [
    "# create a distribution map to see how the gas prices have varied across the USA\n",
    "us_states = pd.read_csv('https://raw.githubusercontent.com/PublicaMundi/MappingAPI/master/data/geojson/us-states.json')\n",
    "us_states['id'] = us_states['id'].apply(lambda x: x.lower())\n",
    "\n",
    "state_gas_prices = gas_prices.groupby(gas_prices.index.year).mean()\n",
    "state_gas_prices['State'] = ['AL', 'AK', 'AZ', 'AR', 'CA', 'CO', 'CT', 'DE', 'FL', 'GA', 'HI', 'ID', 'IL', 'IN']"
   ]
  },
  {
   "cell_type": "code",
   "execution_count": null,
   "id": "ecbae177",
   "metadata": {},
   "outputs": [],
   "source": []
  },
  {
   "cell_type": "code",
   "execution_count": null,
   "id": "abbd9217",
   "metadata": {},
   "outputs": [],
   "source": []
  }
 ],
 "metadata": {
  "kernelspec": {
   "display_name": "Python 3 (ipykernel)",
   "language": "python",
   "name": "python3"
  },
  "language_info": {
   "codemirror_mode": {
    "name": "ipython",
    "version": 3
   },
   "file_extension": ".py",
   "mimetype": "text/x-python",
   "name": "python",
   "nbconvert_exporter": "python",
   "pygments_lexer": "ipython3",
   "version": "3.10.11"
  }
 },
 "nbformat": 4,
 "nbformat_minor": 5
}
