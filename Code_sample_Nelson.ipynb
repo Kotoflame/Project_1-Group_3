{
 "cells": [
  {
   "cell_type": "code",
   "execution_count": 4,
   "id": "deb78bdf",
   "metadata": {},
   "outputs": [],
   "source": [
    "# import the necessary libraries\n",
    "import pandas as pd\n",
    "import requests\n",
    "import json\n",
    "import matplotlib.pyplot as plt\n",
    "import seaborn as sns\n",
    "from sklearn.linear_model import LinearRegression"
   ]
  },
  {
   "cell_type": "code",
   "execution_count": 14,
   "id": "1d797342",
   "metadata": {},
   "outputs": [],
   "source": [
    "# define a function to call the API and collect the data\n",
    "def get_gas_prices():\n",
    "    api_url = 'https://api.eia.gov/v2/series/?api_key=CaYN6JIcvNOO0ASoHuG1JYT1Hugfu98N3RFotIgL&series_id=PET.EMD_EPD2D_PTE_NUS_DPG.W'\n",
    "    response = requests.get(api_url)\n",
    "    data = json.loads(response.text)['series'][0]['data']\n",
    "    gas_prices = pd.DataFrame(data, columns=['Year', 'Price'])\n",
    "    gas_prices['Year'] = pd.to_datetime(gas_prices['Year'], format='%Y')\n",
    "    gas_prices.set_index('Year', inplace=True)\n",
    "    gas_prices.sort_index(inplace=True)\n",
    "    return gas_prices"
   ]
  },
  {
   "cell_type": "code",
   "execution_count": null,
   "id": "ce6574db",
   "metadata": {},
   "outputs": [],
   "source": [
    "# create a scatter plot of the gas prices over time\n",
    "plt.figure(figsize=(12, 6))\n",
    "plt.scatter(gas_prices.index, gas_prices['Price'], alpha=0.5)\n",
    "plt.xlabel('Year')\n",
    "plt.ylabel('Gas Price ($)')\n",
    "plt.title('Gas Prices in the USA over Time')\n",
    "plt.show()"
   ]
  },
  {
   "cell_type": "code",
   "execution_count": null,
   "id": "abfc980d",
   "metadata": {},
   "outputs": [],
   "source": [
    "# call the function to collect the data and create a data frame\n",
    "gas_prices = get_gas_prices()\n",
    "gas_prices.head()"
   ]
  },
  {
   "cell_type": "code",
   "execution_count": null,
   "id": "befb5ae2",
   "metadata": {},
   "outputs": [],
   "source": [
    "# create a linear regression to see how the gas prices have changed over time\n",
    "X = gas_prices.index.map(lambda year: year.year).values.reshape(-1, 1)\n",
    "y = gas_prices['Price'].values.reshape(-1, 1)\n",
    "lr = LinearRegression().fit(X, y)\n",
    "y_pred = lr.predict(X)\n",
    "\n",
    "plt.figure(figsize=(12, 6))\n",
    "plt.scatter(X, y, alpha=0.5)\n",
    "plt.plot(X, y_pred, color='red')\n",
    "plt.xlabel('Year')\n",
    "plt.ylabel('Gas Price ($)')\n",
    "plt.title('Gas Prices in the USA over Time')\n",
    "plt.show()\n"
   ]
  },
  {
   "cell_type": "code",
   "execution_count": null,
   "id": "60f1d2fb",
   "metadata": {},
   "outputs": [],
   "source": [
    "# create a bar plot to see the average gas prices by year\n",
    "yearly_gas_prices = gas_prices.resample('Y').mean()\n",
    "\n",
    "plt.figure(figsize=(12, 6))\n",
    "plt.bar(yearly_gas_prices.index.year, yearly_gas_prices['Price'])\n",
    "plt.xlabel('Year')\n",
    "plt.ylabel('Average Gas Price ($)')\n",
    "plt.title('Average Gas Prices in the USA by Year')\n",
    "plt.show()\n"
   ]
  },
  {
   "cell_type": "code",
   "execution_count": null,
   "id": "e3883bc1",
   "metadata": {},
   "outputs": [],
   "source": [
    "# create a distribution map to see how the gas prices have varied across the USA\n",
    "us_states = pd.read_csv('https://raw.githubusercontent.com/PublicaMundi/MappingAPI/master/data/geojson/us-states.json')\n",
    "us_states['id'] = us_states['id'].apply(lambda x: x.lower())\n",
    "\n",
    "state_gas_prices = gas_prices.groupby(gas_prices.index.year).mean()\n",
    "state_gas_prices['State'] = ['AL', 'AK', 'AZ', 'AR', 'CA', 'CO', 'CT', 'DE', 'FL', 'GA', 'HI', 'ID', 'IL', 'IN']"
   ]
  }
 ],
 "metadata": {
  "kernelspec": {
   "display_name": "Python 3 (ipykernel)",
   "language": "python",
   "name": "python3"
  },
  "language_info": {
   "codemirror_mode": {
    "name": "ipython",
    "version": 3
   },
   "file_extension": ".py",
   "mimetype": "text/x-python",
   "name": "python",
   "nbconvert_exporter": "python",
   "pygments_lexer": "ipython3",
   "version": "3.10.9"
  }
 },
 "nbformat": 4,
 "nbformat_minor": 5
}
